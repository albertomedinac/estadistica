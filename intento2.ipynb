{
 "cells": [
  {
   "cell_type": "code",
   "execution_count": 52,
   "metadata": {},
   "outputs": [],
   "source": [
    "import pandas as pd\n",
    "import numpy as np\n",
    "import matplotlib.pyplot as plt\n",
    "import seaborn as sns\n",
    "import scipy as sp\n",
    "from scipy import stats\n",
    "from scipy.stats import t"
   ]
  },
  {
   "cell_type": "code",
   "execution_count": 53,
   "metadata": {},
   "outputs": [],
   "source": [
    "#leemos los datos meteorologicos\n",
    "df= pd.read_csv(\"master.csv\",engine=\"python\")"
   ]
  },
  {
   "cell_type": "code",
   "execution_count": 54,
   "metadata": {},
   "outputs": [
    {
     "data": {
      "text/html": [
       "<div>\n",
       "<style scoped>\n",
       "    .dataframe tbody tr th:only-of-type {\n",
       "        vertical-align: middle;\n",
       "    }\n",
       "\n",
       "    .dataframe tbody tr th {\n",
       "        vertical-align: top;\n",
       "    }\n",
       "\n",
       "    .dataframe thead th {\n",
       "        text-align: right;\n",
       "    }\n",
       "</style>\n",
       "<table border=\"1\" class=\"dataframe\">\n",
       "  <thead>\n",
       "    <tr style=\"text-align: right;\">\n",
       "      <th></th>\n",
       "      <th>ï»¿country</th>\n",
       "      <th>year</th>\n",
       "      <th>sex</th>\n",
       "      <th>age</th>\n",
       "      <th>suicides_no</th>\n",
       "      <th>population</th>\n",
       "      <th>suicides/100k pop</th>\n",
       "      <th>country-year</th>\n",
       "      <th>HDI for year</th>\n",
       "      <th>gdp_for_year ($)</th>\n",
       "      <th>gdp_per_capita ($)</th>\n",
       "      <th>generation</th>\n",
       "    </tr>\n",
       "  </thead>\n",
       "  <tbody>\n",
       "    <tr>\n",
       "      <th>0</th>\n",
       "      <td>Albania</td>\n",
       "      <td>1987</td>\n",
       "      <td>male</td>\n",
       "      <td>15-24 years</td>\n",
       "      <td>21</td>\n",
       "      <td>312900</td>\n",
       "      <td>6.71</td>\n",
       "      <td>Albania1987</td>\n",
       "      <td>NaN</td>\n",
       "      <td>2,156,624,900</td>\n",
       "      <td>796</td>\n",
       "      <td>Generation X</td>\n",
       "    </tr>\n",
       "    <tr>\n",
       "      <th>1</th>\n",
       "      <td>Albania</td>\n",
       "      <td>1987</td>\n",
       "      <td>male</td>\n",
       "      <td>35-54 years</td>\n",
       "      <td>16</td>\n",
       "      <td>308000</td>\n",
       "      <td>5.19</td>\n",
       "      <td>Albania1987</td>\n",
       "      <td>NaN</td>\n",
       "      <td>2,156,624,900</td>\n",
       "      <td>796</td>\n",
       "      <td>Silent</td>\n",
       "    </tr>\n",
       "    <tr>\n",
       "      <th>2</th>\n",
       "      <td>Albania</td>\n",
       "      <td>1987</td>\n",
       "      <td>female</td>\n",
       "      <td>15-24 years</td>\n",
       "      <td>14</td>\n",
       "      <td>289700</td>\n",
       "      <td>4.83</td>\n",
       "      <td>Albania1987</td>\n",
       "      <td>NaN</td>\n",
       "      <td>2,156,624,900</td>\n",
       "      <td>796</td>\n",
       "      <td>Generation X</td>\n",
       "    </tr>\n",
       "    <tr>\n",
       "      <th>3</th>\n",
       "      <td>Albania</td>\n",
       "      <td>1987</td>\n",
       "      <td>male</td>\n",
       "      <td>75+ years</td>\n",
       "      <td>1</td>\n",
       "      <td>21800</td>\n",
       "      <td>4.59</td>\n",
       "      <td>Albania1987</td>\n",
       "      <td>NaN</td>\n",
       "      <td>2,156,624,900</td>\n",
       "      <td>796</td>\n",
       "      <td>G.I. Generation</td>\n",
       "    </tr>\n",
       "    <tr>\n",
       "      <th>4</th>\n",
       "      <td>Albania</td>\n",
       "      <td>1987</td>\n",
       "      <td>male</td>\n",
       "      <td>25-34 years</td>\n",
       "      <td>9</td>\n",
       "      <td>274300</td>\n",
       "      <td>3.28</td>\n",
       "      <td>Albania1987</td>\n",
       "      <td>NaN</td>\n",
       "      <td>2,156,624,900</td>\n",
       "      <td>796</td>\n",
       "      <td>Boomers</td>\n",
       "    </tr>\n",
       "  </tbody>\n",
       "</table>\n",
       "</div>"
      ],
      "text/plain": [
       "  ï»¿country  year     sex          age  suicides_no  population  \\\n",
       "0    Albania  1987    male  15-24 years           21      312900   \n",
       "1    Albania  1987    male  35-54 years           16      308000   \n",
       "2    Albania  1987  female  15-24 years           14      289700   \n",
       "3    Albania  1987    male    75+ years            1       21800   \n",
       "4    Albania  1987    male  25-34 years            9      274300   \n",
       "\n",
       "   suicides/100k pop country-year  HDI for year  gdp_for_year ($)   \\\n",
       "0               6.71  Albania1987           NaN      2,156,624,900   \n",
       "1               5.19  Albania1987           NaN      2,156,624,900   \n",
       "2               4.83  Albania1987           NaN      2,156,624,900   \n",
       "3               4.59  Albania1987           NaN      2,156,624,900   \n",
       "4               3.28  Albania1987           NaN      2,156,624,900   \n",
       "\n",
       "   gdp_per_capita ($)       generation  \n",
       "0                 796     Generation X  \n",
       "1                 796           Silent  \n",
       "2                 796     Generation X  \n",
       "3                 796  G.I. Generation  \n",
       "4                 796          Boomers  "
      ]
     },
     "execution_count": 54,
     "metadata": {},
     "output_type": "execute_result"
    }
   ],
   "source": [
    "df.head()"
   ]
  },
  {
   "cell_type": "code",
   "execution_count": 55,
   "metadata": {},
   "outputs": [
    {
     "data": {
      "text/plain": [
       "ï»¿country             object\n",
       "year                    int64\n",
       "sex                    object\n",
       "age                    object\n",
       "suicides_no             int64\n",
       "population              int64\n",
       "suicides/100k pop     float64\n",
       "country-year           object\n",
       "HDI for year          float64\n",
       " gdp_for_year ($)      object\n",
       "gdp_per_capita ($)      int64\n",
       "generation             object\n",
       "dtype: object"
      ]
     },
     "execution_count": 55,
     "metadata": {},
     "output_type": "execute_result"
    }
   ],
   "source": [
    "df.dtypes"
   ]
  },
  {
   "cell_type": "code",
   "execution_count": 56,
   "metadata": {},
   "outputs": [],
   "source": [
    "df1=df.loc[df['ï»¿country']=='Mexico']"
   ]
  },
  {
   "cell_type": "code",
   "execution_count": 57,
   "metadata": {},
   "outputs": [],
   "source": [
    "df1=df1.loc[df1['year']==2015]"
   ]
  },
  {
   "cell_type": "code",
   "execution_count": 58,
   "metadata": {},
   "outputs": [
    {
     "data": {
      "text/html": [
       "<div>\n",
       "<style scoped>\n",
       "    .dataframe tbody tr th:only-of-type {\n",
       "        vertical-align: middle;\n",
       "    }\n",
       "\n",
       "    .dataframe tbody tr th {\n",
       "        vertical-align: top;\n",
       "    }\n",
       "\n",
       "    .dataframe thead th {\n",
       "        text-align: right;\n",
       "    }\n",
       "</style>\n",
       "<table border=\"1\" class=\"dataframe\">\n",
       "  <thead>\n",
       "    <tr style=\"text-align: right;\">\n",
       "      <th></th>\n",
       "      <th>ï»¿country</th>\n",
       "      <th>year</th>\n",
       "      <th>sex</th>\n",
       "      <th>age</th>\n",
       "      <th>suicides_no</th>\n",
       "      <th>population</th>\n",
       "      <th>suicides/100k pop</th>\n",
       "      <th>country-year</th>\n",
       "      <th>HDI for year</th>\n",
       "      <th>gdp_for_year ($)</th>\n",
       "      <th>gdp_per_capita ($)</th>\n",
       "      <th>generation</th>\n",
       "    </tr>\n",
       "  </thead>\n",
       "  <tbody>\n",
       "    <tr>\n",
       "      <th>16924</th>\n",
       "      <td>Mexico</td>\n",
       "      <td>2015</td>\n",
       "      <td>male</td>\n",
       "      <td>25-34 years</td>\n",
       "      <td>1195</td>\n",
       "      <td>10243158</td>\n",
       "      <td>11.67</td>\n",
       "      <td>Mexico2015</td>\n",
       "      <td>NaN</td>\n",
       "      <td>1,169,622,672,463</td>\n",
       "      <td>10228</td>\n",
       "      <td>Millenials</td>\n",
       "    </tr>\n",
       "    <tr>\n",
       "      <th>16925</th>\n",
       "      <td>Mexico</td>\n",
       "      <td>2015</td>\n",
       "      <td>male</td>\n",
       "      <td>15-24 years</td>\n",
       "      <td>1347</td>\n",
       "      <td>11676480</td>\n",
       "      <td>11.54</td>\n",
       "      <td>Mexico2015</td>\n",
       "      <td>NaN</td>\n",
       "      <td>1,169,622,672,463</td>\n",
       "      <td>10228</td>\n",
       "      <td>Millenials</td>\n",
       "    </tr>\n",
       "    <tr>\n",
       "      <th>16926</th>\n",
       "      <td>Mexico</td>\n",
       "      <td>2015</td>\n",
       "      <td>male</td>\n",
       "      <td>75+ years</td>\n",
       "      <td>163</td>\n",
       "      <td>1427654</td>\n",
       "      <td>11.42</td>\n",
       "      <td>Mexico2015</td>\n",
       "      <td>NaN</td>\n",
       "      <td>1,169,622,672,463</td>\n",
       "      <td>10228</td>\n",
       "      <td>Silent</td>\n",
       "    </tr>\n",
       "    <tr>\n",
       "      <th>16927</th>\n",
       "      <td>Mexico</td>\n",
       "      <td>2015</td>\n",
       "      <td>male</td>\n",
       "      <td>35-54 years</td>\n",
       "      <td>1560</td>\n",
       "      <td>15181008</td>\n",
       "      <td>10.28</td>\n",
       "      <td>Mexico2015</td>\n",
       "      <td>NaN</td>\n",
       "      <td>1,169,622,672,463</td>\n",
       "      <td>10228</td>\n",
       "      <td>Generation X</td>\n",
       "    </tr>\n",
       "    <tr>\n",
       "      <th>16928</th>\n",
       "      <td>Mexico</td>\n",
       "      <td>2015</td>\n",
       "      <td>male</td>\n",
       "      <td>55-74 years</td>\n",
       "      <td>584</td>\n",
       "      <td>6465941</td>\n",
       "      <td>9.03</td>\n",
       "      <td>Mexico2015</td>\n",
       "      <td>NaN</td>\n",
       "      <td>1,169,622,672,463</td>\n",
       "      <td>10228</td>\n",
       "      <td>Boomers</td>\n",
       "    </tr>\n",
       "    <tr>\n",
       "      <th>16929</th>\n",
       "      <td>Mexico</td>\n",
       "      <td>2015</td>\n",
       "      <td>female</td>\n",
       "      <td>15-24 years</td>\n",
       "      <td>484</td>\n",
       "      <td>11354811</td>\n",
       "      <td>4.26</td>\n",
       "      <td>Mexico2015</td>\n",
       "      <td>NaN</td>\n",
       "      <td>1,169,622,672,463</td>\n",
       "      <td>10228</td>\n",
       "      <td>Millenials</td>\n",
       "    </tr>\n",
       "    <tr>\n",
       "      <th>16930</th>\n",
       "      <td>Mexico</td>\n",
       "      <td>2015</td>\n",
       "      <td>female</td>\n",
       "      <td>25-34 years</td>\n",
       "      <td>267</td>\n",
       "      <td>10079012</td>\n",
       "      <td>2.65</td>\n",
       "      <td>Mexico2015</td>\n",
       "      <td>NaN</td>\n",
       "      <td>1,169,622,672,463</td>\n",
       "      <td>10228</td>\n",
       "      <td>Millenials</td>\n",
       "    </tr>\n",
       "    <tr>\n",
       "      <th>16931</th>\n",
       "      <td>Mexico</td>\n",
       "      <td>2015</td>\n",
       "      <td>female</td>\n",
       "      <td>35-54 years</td>\n",
       "      <td>303</td>\n",
       "      <td>15940497</td>\n",
       "      <td>1.90</td>\n",
       "      <td>Mexico2015</td>\n",
       "      <td>NaN</td>\n",
       "      <td>1,169,622,672,463</td>\n",
       "      <td>10228</td>\n",
       "      <td>Generation X</td>\n",
       "    </tr>\n",
       "    <tr>\n",
       "      <th>16932</th>\n",
       "      <td>Mexico</td>\n",
       "      <td>2015</td>\n",
       "      <td>female</td>\n",
       "      <td>55-74 years</td>\n",
       "      <td>88</td>\n",
       "      <td>7021916</td>\n",
       "      <td>1.25</td>\n",
       "      <td>Mexico2015</td>\n",
       "      <td>NaN</td>\n",
       "      <td>1,169,622,672,463</td>\n",
       "      <td>10228</td>\n",
       "      <td>Boomers</td>\n",
       "    </tr>\n",
       "    <tr>\n",
       "      <th>16933</th>\n",
       "      <td>Mexico</td>\n",
       "      <td>2015</td>\n",
       "      <td>male</td>\n",
       "      <td>5-14 years</td>\n",
       "      <td>137</td>\n",
       "      <td>11790898</td>\n",
       "      <td>1.16</td>\n",
       "      <td>Mexico2015</td>\n",
       "      <td>NaN</td>\n",
       "      <td>1,169,622,672,463</td>\n",
       "      <td>10228</td>\n",
       "      <td>Generation Z</td>\n",
       "    </tr>\n",
       "    <tr>\n",
       "      <th>16934</th>\n",
       "      <td>Mexico</td>\n",
       "      <td>2015</td>\n",
       "      <td>female</td>\n",
       "      <td>5-14 years</td>\n",
       "      <td>95</td>\n",
       "      <td>11261292</td>\n",
       "      <td>0.84</td>\n",
       "      <td>Mexico2015</td>\n",
       "      <td>NaN</td>\n",
       "      <td>1,169,622,672,463</td>\n",
       "      <td>10228</td>\n",
       "      <td>Generation Z</td>\n",
       "    </tr>\n",
       "    <tr>\n",
       "      <th>16935</th>\n",
       "      <td>Mexico</td>\n",
       "      <td>2015</td>\n",
       "      <td>female</td>\n",
       "      <td>75+ years</td>\n",
       "      <td>11</td>\n",
       "      <td>1915217</td>\n",
       "      <td>0.57</td>\n",
       "      <td>Mexico2015</td>\n",
       "      <td>NaN</td>\n",
       "      <td>1,169,622,672,463</td>\n",
       "      <td>10228</td>\n",
       "      <td>Silent</td>\n",
       "    </tr>\n",
       "  </tbody>\n",
       "</table>\n",
       "</div>"
      ],
      "text/plain": [
       "      ï»¿country  year     sex          age  suicides_no  population  \\\n",
       "16924     Mexico  2015    male  25-34 years         1195    10243158   \n",
       "16925     Mexico  2015    male  15-24 years         1347    11676480   \n",
       "16926     Mexico  2015    male    75+ years          163     1427654   \n",
       "16927     Mexico  2015    male  35-54 years         1560    15181008   \n",
       "16928     Mexico  2015    male  55-74 years          584     6465941   \n",
       "16929     Mexico  2015  female  15-24 years          484    11354811   \n",
       "16930     Mexico  2015  female  25-34 years          267    10079012   \n",
       "16931     Mexico  2015  female  35-54 years          303    15940497   \n",
       "16932     Mexico  2015  female  55-74 years           88     7021916   \n",
       "16933     Mexico  2015    male   5-14 years          137    11790898   \n",
       "16934     Mexico  2015  female   5-14 years           95    11261292   \n",
       "16935     Mexico  2015  female    75+ years           11     1915217   \n",
       "\n",
       "       suicides/100k pop country-year  HDI for year  gdp_for_year ($)   \\\n",
       "16924              11.67   Mexico2015           NaN  1,169,622,672,463   \n",
       "16925              11.54   Mexico2015           NaN  1,169,622,672,463   \n",
       "16926              11.42   Mexico2015           NaN  1,169,622,672,463   \n",
       "16927              10.28   Mexico2015           NaN  1,169,622,672,463   \n",
       "16928               9.03   Mexico2015           NaN  1,169,622,672,463   \n",
       "16929               4.26   Mexico2015           NaN  1,169,622,672,463   \n",
       "16930               2.65   Mexico2015           NaN  1,169,622,672,463   \n",
       "16931               1.90   Mexico2015           NaN  1,169,622,672,463   \n",
       "16932               1.25   Mexico2015           NaN  1,169,622,672,463   \n",
       "16933               1.16   Mexico2015           NaN  1,169,622,672,463   \n",
       "16934               0.84   Mexico2015           NaN  1,169,622,672,463   \n",
       "16935               0.57   Mexico2015           NaN  1,169,622,672,463   \n",
       "\n",
       "       gdp_per_capita ($)    generation  \n",
       "16924               10228    Millenials  \n",
       "16925               10228    Millenials  \n",
       "16926               10228        Silent  \n",
       "16927               10228  Generation X  \n",
       "16928               10228       Boomers  \n",
       "16929               10228    Millenials  \n",
       "16930               10228    Millenials  \n",
       "16931               10228  Generation X  \n",
       "16932               10228       Boomers  \n",
       "16933               10228  Generation Z  \n",
       "16934               10228  Generation Z  \n",
       "16935               10228        Silent  "
      ]
     },
     "execution_count": 58,
     "metadata": {},
     "output_type": "execute_result"
    }
   ],
   "source": [
    "#df1.groupby(['sex','age']).agg({'suicides_no':'sum'})\n",
    "df1"
   ]
  },
  {
   "cell_type": "code",
   "execution_count": 59,
   "metadata": {},
   "outputs": [],
   "source": [
    "df3=df1.suicides_no.groupby([df1.sex, df1.age]).sum().unstack().fillna(0).astype(int)"
   ]
  },
  {
   "cell_type": "code",
   "execution_count": 60,
   "metadata": {},
   "outputs": [
    {
     "data": {
      "text/html": [
       "<div>\n",
       "<style scoped>\n",
       "    .dataframe tbody tr th:only-of-type {\n",
       "        vertical-align: middle;\n",
       "    }\n",
       "\n",
       "    .dataframe tbody tr th {\n",
       "        vertical-align: top;\n",
       "    }\n",
       "\n",
       "    .dataframe thead th {\n",
       "        text-align: right;\n",
       "    }\n",
       "</style>\n",
       "<table border=\"1\" class=\"dataframe\">\n",
       "  <thead>\n",
       "    <tr style=\"text-align: right;\">\n",
       "      <th>age</th>\n",
       "      <th>15-24 years</th>\n",
       "      <th>25-34 years</th>\n",
       "      <th>35-54 years</th>\n",
       "      <th>5-14 years</th>\n",
       "      <th>55-74 years</th>\n",
       "      <th>75+ years</th>\n",
       "    </tr>\n",
       "    <tr>\n",
       "      <th>sex</th>\n",
       "      <th></th>\n",
       "      <th></th>\n",
       "      <th></th>\n",
       "      <th></th>\n",
       "      <th></th>\n",
       "      <th></th>\n",
       "    </tr>\n",
       "  </thead>\n",
       "  <tbody>\n",
       "    <tr>\n",
       "      <th>female</th>\n",
       "      <td>484</td>\n",
       "      <td>267</td>\n",
       "      <td>303</td>\n",
       "      <td>95</td>\n",
       "      <td>88</td>\n",
       "      <td>11</td>\n",
       "    </tr>\n",
       "    <tr>\n",
       "      <th>male</th>\n",
       "      <td>1347</td>\n",
       "      <td>1195</td>\n",
       "      <td>1560</td>\n",
       "      <td>137</td>\n",
       "      <td>584</td>\n",
       "      <td>163</td>\n",
       "    </tr>\n",
       "  </tbody>\n",
       "</table>\n",
       "</div>"
      ],
      "text/plain": [
       "age     15-24 years  25-34 years  35-54 years  5-14 years  55-74 years  \\\n",
       "sex                                                                      \n",
       "female          484          267          303          95           88   \n",
       "male           1347         1195         1560         137          584   \n",
       "\n",
       "age     75+ years  \n",
       "sex                \n",
       "female         11  \n",
       "male          163  "
      ]
     },
     "execution_count": 60,
     "metadata": {},
     "output_type": "execute_result"
    }
   ],
   "source": [
    "df3"
   ]
  },
  {
   "cell_type": "code",
   "execution_count": 61,
   "metadata": {},
   "outputs": [],
   "source": [
    "import scipy.stats"
   ]
  },
  {
   "cell_type": "code",
   "execution_count": 62,
   "metadata": {},
   "outputs": [],
   "source": [
    "vieja=[484,267,303,95,88,11]"
   ]
  },
  {
   "cell_type": "code",
   "execution_count": 63,
   "metadata": {},
   "outputs": [
    {
     "data": {
      "text/plain": [
       "[484, 267, 303, 95, 88, 11]"
      ]
     },
     "execution_count": 63,
     "metadata": {},
     "output_type": "execute_result"
    }
   ],
   "source": [
    "vieja"
   ]
  },
  {
   "cell_type": "code",
   "execution_count": 64,
   "metadata": {},
   "outputs": [],
   "source": [
    "vato=[1347,1195,1560,137,584,163]"
   ]
  },
  {
   "cell_type": "code",
   "execution_count": 65,
   "metadata": {},
   "outputs": [
    {
     "data": {
      "text/plain": [
       "[1347, 1195, 1560, 137, 584, 163]"
      ]
     },
     "execution_count": 65,
     "metadata": {},
     "output_type": "execute_result"
    }
   ],
   "source": [
    "vato"
   ]
  },
  {
   "cell_type": "code",
   "execution_count": 66,
   "metadata": {},
   "outputs": [
    {
     "name": "stdout",
     "output_type": "stream",
     "text": [
      "Test Statistic: 170.25310062001859\n",
      "p-value: 6.443178859832743e-35\n",
      "Degrees of Freedom: 5\n",
      "\n",
      "[[ 366.55245428  292.68142445  372.95861405   46.44465833  134.52935515\n",
      "    34.83349374]\n",
      " [1464.44754572 1169.31857555 1490.04138595  185.55534167  537.47064485\n",
      "   139.16650626]]\n"
     ]
    }
   ],
   "source": [
    "house = [ vieja , vato ]\n",
    "chi2, p, ddof, expected = scipy.stats.chi2_contingency( house )\n",
    "msg = \"Test Statistic: {}\\np-value: {}\\nDegrees of Freedom: {}\\n\"\n",
    "print( msg.format( chi2, p, ddof ) )\n",
    "print( expected )"
   ]
  },
  {
   "cell_type": "code",
   "execution_count": 67,
   "metadata": {},
   "outputs": [
    {
     "data": {
      "text/plain": [
       "array([[ 366.55245428,  292.68142445,  372.95861405,   46.44465833,\n",
       "         134.52935515,   34.83349374],\n",
       "       [1464.44754572, 1169.31857555, 1490.04138595,  185.55534167,\n",
       "         537.47064485,  139.16650626]])"
      ]
     },
     "execution_count": 67,
     "metadata": {},
     "output_type": "execute_result"
    }
   ],
   "source": [
    "expected"
   ]
  },
  {
   "cell_type": "code",
   "execution_count": 83,
   "metadata": {},
   "outputs": [],
   "source": [
    "df3=df1.suicides_no.groupby([df1.sex, df1.generation]).sum().unstack().fillna(0).astype(int)"
   ]
  },
  {
   "cell_type": "code",
   "execution_count": 84,
   "metadata": {},
   "outputs": [
    {
     "data": {
      "text/html": [
       "<div>\n",
       "<style scoped>\n",
       "    .dataframe tbody tr th:only-of-type {\n",
       "        vertical-align: middle;\n",
       "    }\n",
       "\n",
       "    .dataframe tbody tr th {\n",
       "        vertical-align: top;\n",
       "    }\n",
       "\n",
       "    .dataframe thead th {\n",
       "        text-align: right;\n",
       "    }\n",
       "</style>\n",
       "<table border=\"1\" class=\"dataframe\">\n",
       "  <thead>\n",
       "    <tr style=\"text-align: right;\">\n",
       "      <th>generation</th>\n",
       "      <th>Boomers</th>\n",
       "      <th>Generation X</th>\n",
       "      <th>Generation Z</th>\n",
       "      <th>Millenials</th>\n",
       "      <th>Silent</th>\n",
       "    </tr>\n",
       "    <tr>\n",
       "      <th>sex</th>\n",
       "      <th></th>\n",
       "      <th></th>\n",
       "      <th></th>\n",
       "      <th></th>\n",
       "      <th></th>\n",
       "    </tr>\n",
       "  </thead>\n",
       "  <tbody>\n",
       "    <tr>\n",
       "      <th>female</th>\n",
       "      <td>88</td>\n",
       "      <td>303</td>\n",
       "      <td>95</td>\n",
       "      <td>751</td>\n",
       "      <td>11</td>\n",
       "    </tr>\n",
       "    <tr>\n",
       "      <th>male</th>\n",
       "      <td>584</td>\n",
       "      <td>1560</td>\n",
       "      <td>137</td>\n",
       "      <td>2542</td>\n",
       "      <td>163</td>\n",
       "    </tr>\n",
       "  </tbody>\n",
       "</table>\n",
       "</div>"
      ],
      "text/plain": [
       "generation  Boomers  Generation X  Generation Z  Millenials  Silent\n",
       "sex                                                                \n",
       "female           88           303            95         751      11\n",
       "male            584          1560           137        2542     163"
      ]
     },
     "execution_count": 84,
     "metadata": {},
     "output_type": "execute_result"
    }
   ],
   "source": [
    "df3"
   ]
  },
  {
   "cell_type": "code",
   "execution_count": 85,
   "metadata": {},
   "outputs": [],
   "source": [
    "vieja=[88,303,95,751,11]"
   ]
  },
  {
   "cell_type": "code",
   "execution_count": 86,
   "metadata": {},
   "outputs": [],
   "source": [
    "vato=[584,1560,137,2542,163]"
   ]
  },
  {
   "cell_type": "code",
   "execution_count": 87,
   "metadata": {},
   "outputs": [
    {
     "name": "stdout",
     "output_type": "stream",
     "text": [
      "Test Statistic: 136.35620190426334\n",
      "p-value: 1.7005742769908065e-28\n",
      "Degrees of Freedom: 4\n",
      "\n",
      "[[ 134.52935515  372.95861405   46.44465833  659.23387873   34.83349374]\n",
      " [ 537.47064485 1490.04138595  185.55534167 2633.76612127  139.16650626]]\n"
     ]
    }
   ],
   "source": [
    "house = [ vieja , vato ]\n",
    "chi2, p, ddof, expected = scipy.stats.chi2_contingency( house )\n",
    "msg = \"Test Statistic: {}\\np-value: {}\\nDegrees of Freedom: {}\\n\"\n",
    "print( msg.format( chi2, p, ddof ) )\n",
    "print( expected )"
   ]
  },
  {
   "cell_type": "code",
   "execution_count": 68,
   "metadata": {},
   "outputs": [
    {
     "data": {
      "text/html": [
       "<div>\n",
       "<style scoped>\n",
       "    .dataframe tbody tr th:only-of-type {\n",
       "        vertical-align: middle;\n",
       "    }\n",
       "\n",
       "    .dataframe tbody tr th {\n",
       "        vertical-align: top;\n",
       "    }\n",
       "\n",
       "    .dataframe thead th {\n",
       "        text-align: right;\n",
       "    }\n",
       "</style>\n",
       "<table border=\"1\" class=\"dataframe\">\n",
       "  <thead>\n",
       "    <tr style=\"text-align: right;\">\n",
       "      <th></th>\n",
       "      <th>ï»¿country</th>\n",
       "      <th>year</th>\n",
       "      <th>sex</th>\n",
       "      <th>age</th>\n",
       "      <th>suicides_no</th>\n",
       "      <th>population</th>\n",
       "      <th>suicides/100k pop</th>\n",
       "      <th>country-year</th>\n",
       "      <th>HDI for year</th>\n",
       "      <th>gdp_for_year ($)</th>\n",
       "      <th>gdp_per_capita ($)</th>\n",
       "      <th>generation</th>\n",
       "    </tr>\n",
       "  </thead>\n",
       "  <tbody>\n",
       "    <tr>\n",
       "      <th>16924</th>\n",
       "      <td>Mexico</td>\n",
       "      <td>2015</td>\n",
       "      <td>male</td>\n",
       "      <td>25-34 years</td>\n",
       "      <td>1195</td>\n",
       "      <td>10243158</td>\n",
       "      <td>11.67</td>\n",
       "      <td>Mexico2015</td>\n",
       "      <td>NaN</td>\n",
       "      <td>1,169,622,672,463</td>\n",
       "      <td>10228</td>\n",
       "      <td>Millenials</td>\n",
       "    </tr>\n",
       "    <tr>\n",
       "      <th>16925</th>\n",
       "      <td>Mexico</td>\n",
       "      <td>2015</td>\n",
       "      <td>male</td>\n",
       "      <td>15-24 years</td>\n",
       "      <td>1347</td>\n",
       "      <td>11676480</td>\n",
       "      <td>11.54</td>\n",
       "      <td>Mexico2015</td>\n",
       "      <td>NaN</td>\n",
       "      <td>1,169,622,672,463</td>\n",
       "      <td>10228</td>\n",
       "      <td>Millenials</td>\n",
       "    </tr>\n",
       "    <tr>\n",
       "      <th>16926</th>\n",
       "      <td>Mexico</td>\n",
       "      <td>2015</td>\n",
       "      <td>male</td>\n",
       "      <td>75+ years</td>\n",
       "      <td>163</td>\n",
       "      <td>1427654</td>\n",
       "      <td>11.42</td>\n",
       "      <td>Mexico2015</td>\n",
       "      <td>NaN</td>\n",
       "      <td>1,169,622,672,463</td>\n",
       "      <td>10228</td>\n",
       "      <td>Silent</td>\n",
       "    </tr>\n",
       "    <tr>\n",
       "      <th>16927</th>\n",
       "      <td>Mexico</td>\n",
       "      <td>2015</td>\n",
       "      <td>male</td>\n",
       "      <td>35-54 years</td>\n",
       "      <td>1560</td>\n",
       "      <td>15181008</td>\n",
       "      <td>10.28</td>\n",
       "      <td>Mexico2015</td>\n",
       "      <td>NaN</td>\n",
       "      <td>1,169,622,672,463</td>\n",
       "      <td>10228</td>\n",
       "      <td>Generation X</td>\n",
       "    </tr>\n",
       "    <tr>\n",
       "      <th>16928</th>\n",
       "      <td>Mexico</td>\n",
       "      <td>2015</td>\n",
       "      <td>male</td>\n",
       "      <td>55-74 years</td>\n",
       "      <td>584</td>\n",
       "      <td>6465941</td>\n",
       "      <td>9.03</td>\n",
       "      <td>Mexico2015</td>\n",
       "      <td>NaN</td>\n",
       "      <td>1,169,622,672,463</td>\n",
       "      <td>10228</td>\n",
       "      <td>Boomers</td>\n",
       "    </tr>\n",
       "    <tr>\n",
       "      <th>16933</th>\n",
       "      <td>Mexico</td>\n",
       "      <td>2015</td>\n",
       "      <td>male</td>\n",
       "      <td>5-14 years</td>\n",
       "      <td>137</td>\n",
       "      <td>11790898</td>\n",
       "      <td>1.16</td>\n",
       "      <td>Mexico2015</td>\n",
       "      <td>NaN</td>\n",
       "      <td>1,169,622,672,463</td>\n",
       "      <td>10228</td>\n",
       "      <td>Generation Z</td>\n",
       "    </tr>\n",
       "  </tbody>\n",
       "</table>\n",
       "</div>"
      ],
      "text/plain": [
       "      ï»¿country  year   sex          age  suicides_no  population  \\\n",
       "16924     Mexico  2015  male  25-34 years         1195    10243158   \n",
       "16925     Mexico  2015  male  15-24 years         1347    11676480   \n",
       "16926     Mexico  2015  male    75+ years          163     1427654   \n",
       "16927     Mexico  2015  male  35-54 years         1560    15181008   \n",
       "16928     Mexico  2015  male  55-74 years          584     6465941   \n",
       "16933     Mexico  2015  male   5-14 years          137    11790898   \n",
       "\n",
       "       suicides/100k pop country-year  HDI for year  gdp_for_year ($)   \\\n",
       "16924              11.67   Mexico2015           NaN  1,169,622,672,463   \n",
       "16925              11.54   Mexico2015           NaN  1,169,622,672,463   \n",
       "16926              11.42   Mexico2015           NaN  1,169,622,672,463   \n",
       "16927              10.28   Mexico2015           NaN  1,169,622,672,463   \n",
       "16928               9.03   Mexico2015           NaN  1,169,622,672,463   \n",
       "16933               1.16   Mexico2015           NaN  1,169,622,672,463   \n",
       "\n",
       "       gdp_per_capita ($)    generation  \n",
       "16924               10228    Millenials  \n",
       "16925               10228    Millenials  \n",
       "16926               10228        Silent  \n",
       "16927               10228  Generation X  \n",
       "16928               10228       Boomers  \n",
       "16933               10228  Generation Z  "
      ]
     },
     "execution_count": 68,
     "metadata": {},
     "output_type": "execute_result"
    }
   ],
   "source": [
    "df2=df1[df1['sex']=='male']\n",
    "df2['no_suicidio']=df2['population']-df2['suicides_no']\n",
    "df2"
   ]
  },
  {
   "cell_type": "code",
   "execution_count": 88,
   "metadata": {},
   "outputs": [
    {
     "name": "stdout",
     "output_type": "stream",
     "text": [
      "f 22.929073235919947 p 0.0007363279363636825\n"
     ]
    }
   ],
   "source": [
    "from scipy import stats\n",
    "f,p=stats.f_oneway(df2.suicides_no,df2.no_suicidio)\n",
    "print('f', f, 'p', p)"
   ]
  },
  {
   "cell_type": "code",
   "execution_count": 97,
   "metadata": {},
   "outputs": [
    {
     "name": "stdout",
     "output_type": "stream",
     "text": [
      "               sum_sq   df          F    PR(>F)\n",
      "generation  1907510.0  4.0  41.280947  0.116146\n",
      "Residual      11552.0  1.0        NaN       NaN\n"
     ]
    }
   ],
   "source": [
    "from statsmodels.formula.api import ols\n",
    "import statsmodels.api as sm\n",
    "\n",
    "df2_lm=ols('suicides_no ~ generation ', data=df2).fit() #Specify C for Categorical\n",
    "print(sm.stats.anova_lm(df2_lm, typ=2))"
   ]
  },
  {
   "cell_type": "code",
   "execution_count": 91,
   "metadata": {},
   "outputs": [
    {
     "name": "stderr",
     "output_type": "stream",
     "text": [
      "C:\\Users\\JESUS MEDINA\\Anaconda3\\lib\\site-packages\\ipykernel_launcher.py:2: SettingWithCopyWarning: \n",
      "A value is trying to be set on a copy of a slice from a DataFrame.\n",
      "Try using .loc[row_indexer,col_indexer] = value instead\n",
      "\n",
      "See the caveats in the documentation: http://pandas.pydata.org/pandas-docs/stable/indexing.html#indexing-view-versus-copy\n",
      "  \n"
     ]
    },
    {
     "data": {
      "text/html": [
       "<div>\n",
       "<style scoped>\n",
       "    .dataframe tbody tr th:only-of-type {\n",
       "        vertical-align: middle;\n",
       "    }\n",
       "\n",
       "    .dataframe tbody tr th {\n",
       "        vertical-align: top;\n",
       "    }\n",
       "\n",
       "    .dataframe thead th {\n",
       "        text-align: right;\n",
       "    }\n",
       "</style>\n",
       "<table border=\"1\" class=\"dataframe\">\n",
       "  <thead>\n",
       "    <tr style=\"text-align: right;\">\n",
       "      <th></th>\n",
       "      <th>ï»¿country</th>\n",
       "      <th>year</th>\n",
       "      <th>sex</th>\n",
       "      <th>age</th>\n",
       "      <th>suicides_no</th>\n",
       "      <th>population</th>\n",
       "      <th>suicides/100k pop</th>\n",
       "      <th>country-year</th>\n",
       "      <th>HDI for year</th>\n",
       "      <th>gdp_for_year ($)</th>\n",
       "      <th>gdp_per_capita ($)</th>\n",
       "      <th>generation</th>\n",
       "      <th>no_suicidio</th>\n",
       "    </tr>\n",
       "  </thead>\n",
       "  <tbody>\n",
       "    <tr>\n",
       "      <th>16929</th>\n",
       "      <td>Mexico</td>\n",
       "      <td>2015</td>\n",
       "      <td>female</td>\n",
       "      <td>15-24 years</td>\n",
       "      <td>484</td>\n",
       "      <td>11354811</td>\n",
       "      <td>4.26</td>\n",
       "      <td>Mexico2015</td>\n",
       "      <td>NaN</td>\n",
       "      <td>1,169,622,672,463</td>\n",
       "      <td>10228</td>\n",
       "      <td>Millenials</td>\n",
       "      <td>11354327</td>\n",
       "    </tr>\n",
       "    <tr>\n",
       "      <th>16930</th>\n",
       "      <td>Mexico</td>\n",
       "      <td>2015</td>\n",
       "      <td>female</td>\n",
       "      <td>25-34 years</td>\n",
       "      <td>267</td>\n",
       "      <td>10079012</td>\n",
       "      <td>2.65</td>\n",
       "      <td>Mexico2015</td>\n",
       "      <td>NaN</td>\n",
       "      <td>1,169,622,672,463</td>\n",
       "      <td>10228</td>\n",
       "      <td>Millenials</td>\n",
       "      <td>10078745</td>\n",
       "    </tr>\n",
       "    <tr>\n",
       "      <th>16931</th>\n",
       "      <td>Mexico</td>\n",
       "      <td>2015</td>\n",
       "      <td>female</td>\n",
       "      <td>35-54 years</td>\n",
       "      <td>303</td>\n",
       "      <td>15940497</td>\n",
       "      <td>1.90</td>\n",
       "      <td>Mexico2015</td>\n",
       "      <td>NaN</td>\n",
       "      <td>1,169,622,672,463</td>\n",
       "      <td>10228</td>\n",
       "      <td>Generation X</td>\n",
       "      <td>15940194</td>\n",
       "    </tr>\n",
       "    <tr>\n",
       "      <th>16932</th>\n",
       "      <td>Mexico</td>\n",
       "      <td>2015</td>\n",
       "      <td>female</td>\n",
       "      <td>55-74 years</td>\n",
       "      <td>88</td>\n",
       "      <td>7021916</td>\n",
       "      <td>1.25</td>\n",
       "      <td>Mexico2015</td>\n",
       "      <td>NaN</td>\n",
       "      <td>1,169,622,672,463</td>\n",
       "      <td>10228</td>\n",
       "      <td>Boomers</td>\n",
       "      <td>7021828</td>\n",
       "    </tr>\n",
       "    <tr>\n",
       "      <th>16934</th>\n",
       "      <td>Mexico</td>\n",
       "      <td>2015</td>\n",
       "      <td>female</td>\n",
       "      <td>5-14 years</td>\n",
       "      <td>95</td>\n",
       "      <td>11261292</td>\n",
       "      <td>0.84</td>\n",
       "      <td>Mexico2015</td>\n",
       "      <td>NaN</td>\n",
       "      <td>1,169,622,672,463</td>\n",
       "      <td>10228</td>\n",
       "      <td>Generation Z</td>\n",
       "      <td>11261197</td>\n",
       "    </tr>\n",
       "    <tr>\n",
       "      <th>16935</th>\n",
       "      <td>Mexico</td>\n",
       "      <td>2015</td>\n",
       "      <td>female</td>\n",
       "      <td>75+ years</td>\n",
       "      <td>11</td>\n",
       "      <td>1915217</td>\n",
       "      <td>0.57</td>\n",
       "      <td>Mexico2015</td>\n",
       "      <td>NaN</td>\n",
       "      <td>1,169,622,672,463</td>\n",
       "      <td>10228</td>\n",
       "      <td>Silent</td>\n",
       "      <td>1915206</td>\n",
       "    </tr>\n",
       "  </tbody>\n",
       "</table>\n",
       "</div>"
      ],
      "text/plain": [
       "      ï»¿country  year     sex          age  suicides_no  population  \\\n",
       "16929     Mexico  2015  female  15-24 years          484    11354811   \n",
       "16930     Mexico  2015  female  25-34 years          267    10079012   \n",
       "16931     Mexico  2015  female  35-54 years          303    15940497   \n",
       "16932     Mexico  2015  female  55-74 years           88     7021916   \n",
       "16934     Mexico  2015  female   5-14 years           95    11261292   \n",
       "16935     Mexico  2015  female    75+ years           11     1915217   \n",
       "\n",
       "       suicides/100k pop country-year  HDI for year  gdp_for_year ($)   \\\n",
       "16929               4.26   Mexico2015           NaN  1,169,622,672,463   \n",
       "16930               2.65   Mexico2015           NaN  1,169,622,672,463   \n",
       "16931               1.90   Mexico2015           NaN  1,169,622,672,463   \n",
       "16932               1.25   Mexico2015           NaN  1,169,622,672,463   \n",
       "16934               0.84   Mexico2015           NaN  1,169,622,672,463   \n",
       "16935               0.57   Mexico2015           NaN  1,169,622,672,463   \n",
       "\n",
       "       gdp_per_capita ($)    generation  no_suicidio  \n",
       "16929               10228    Millenials     11354327  \n",
       "16930               10228    Millenials     10078745  \n",
       "16931               10228  Generation X     15940194  \n",
       "16932               10228       Boomers      7021828  \n",
       "16934               10228  Generation Z     11261197  \n",
       "16935               10228        Silent      1915206  "
      ]
     },
     "execution_count": 91,
     "metadata": {},
     "output_type": "execute_result"
    }
   ],
   "source": [
    "df4=df1[df1['sex']=='female']\n",
    "df4['no_suicidio']=df4['population']-df4['suicides_no']\n",
    "df4"
   ]
  },
  {
   "cell_type": "code",
   "execution_count": 92,
   "metadata": {},
   "outputs": [
    {
     "name": "stdout",
     "output_type": "stream",
     "text": [
      "f 24.667402222797694 p 0.0005644695777083094\n"
     ]
    }
   ],
   "source": [
    "from scipy import stats\n",
    "f,p=stats.f_oneway(df4.suicides_no,df4.no_suicidio)\n",
    "print('f', f, 'p', p)"
   ]
  },
  {
   "cell_type": "code",
   "execution_count": 96,
   "metadata": {},
   "outputs": [
    {
     "name": "stdout",
     "output_type": "stream",
     "text": [
      "              sum_sq   df         F    PR(>F)\n",
      "generation  131115.5  4.0  1.392209  0.555559\n",
      "Residual     23544.5  1.0       NaN       NaN\n"
     ]
    }
   ],
   "source": [
    "from statsmodels.formula.api import ols\n",
    "import statsmodels.api as sm\n",
    "\n",
    "df4_lm=ols('suicides_no ~ generation ', data=df4).fit() #Specify C for Categorical\n",
    "print(sm.stats.anova_lm(df4_lm, typ=2))"
   ]
  },
  {
   "cell_type": "code",
   "execution_count": null,
   "metadata": {},
   "outputs": [],
   "source": []
  },
  {
   "cell_type": "code",
   "execution_count": 75,
   "metadata": {},
   "outputs": [],
   "source": [
    "d4=df.loc[df['ï»¿country']=='Mexico']"
   ]
  },
  {
   "cell_type": "code",
   "execution_count": 76,
   "metadata": {},
   "outputs": [
    {
     "data": {
      "text/plain": [
       "<matplotlib.axes._subplots.AxesSubplot at 0x1a3410a0080>"
      ]
     },
     "execution_count": 76,
     "metadata": {},
     "output_type": "execute_result"
    },
    {
     "data": {
      "image/png": "[encoded data removed]",
      "text/plain": [
       "<Figure size 432x288 with 1 Axes>"
      ]
     },
     "metadata": {
      "needs_background": "light"
     },
     "output_type": "display_data"
    }
   ],
   "source": [
    "d4.boxplot('suicides_no', by='age')\n",
    "#se hace una grafica de barras de mexico, para todos los años\n",
    "#para hombres y para mujeres "
   ]
  },
  {
   "cell_type": "code",
   "execution_count": 77,
   "metadata": {},
   "outputs": [],
   "source": [
    "d5 = d4.loc[d4['sex']=='female']"
   ]
  },
  {
   "cell_type": "code",
   "execution_count": 78,
   "metadata": {},
   "outputs": [
    {
     "data": {
      "text/plain": [
       "<matplotlib.axes._subplots.AxesSubplot at 0x1a340d9de48>"
      ]
     },
     "execution_count": 78,
     "metadata": {},
     "output_type": "execute_result"
    },
    {
     "data": {
      "image/png": "[encoded data removed]",
      "text/plain": [
       "<Figure size 432x288 with 1 Axes>"
      ]
     },
     "metadata": {
      "needs_background": "light"
     },
     "output_type": "display_data"
    }
   ],
   "source": [
    "d5.boxplot('suicides_no',by='age')\n",
    "#sucidios por edades, de las mujeres en mexico, desde 1985 hasta el 2015"
   ]
  },
  {
   "cell_type": "code",
   "execution_count": 79,
   "metadata": {},
   "outputs": [],
   "source": [
    "d6=d4.loc[d4['sex']=='male']"
   ]
  },
  {
   "cell_type": "code",
   "execution_count": 80,
   "metadata": {},
   "outputs": [
    {
     "data": {
      "text/plain": [
       "<matplotlib.axes._subplots.AxesSubplot at 0x1a3424e5668>"
      ]
     },
     "execution_count": 80,
     "metadata": {},
     "output_type": "execute_result"
    },
    {
     "data": {
      "image/png": "[encoded data removed]",
      "text/plain": [
       "<Figure size 432x288 with 1 Axes>"
      ]
     },
     "metadata": {
      "needs_background": "light"
     },
     "output_type": "display_data"
    }
   ],
   "source": [
    "d6.boxplot('suicides_no',by='age')\n",
    "#suicidios por edad, de hombres en mexico, desde 1985 hasta el 2015"
   ]
  },
  {
   "cell_type": "code",
   "execution_count": 82,
   "metadata": {
    "scrolled": true
   },
   "outputs": [
    {
     "data": {
      "text/html": [
       "<div>\n",
       "<style scoped>\n",
       "    .dataframe tbody tr th:only-of-type {\n",
       "        vertical-align: middle;\n",
       "    }\n",
       "\n",
       "    .dataframe tbody tr th {\n",
       "        vertical-align: top;\n",
       "    }\n",
       "\n",
       "    .dataframe thead th {\n",
       "        text-align: right;\n",
       "    }\n",
       "</style>\n",
       "<table border=\"1\" class=\"dataframe\">\n",
       "  <thead>\n",
       "    <tr style=\"text-align: right;\">\n",
       "      <th></th>\n",
       "      <th>ï»¿country</th>\n",
       "      <th>year</th>\n",
       "      <th>sex</th>\n",
       "      <th>age</th>\n",
       "      <th>suicides_no</th>\n",
       "      <th>population</th>\n",
       "      <th>suicides/100k pop</th>\n",
       "      <th>country-year</th>\n",
       "      <th>HDI for year</th>\n",
       "      <th>gdp_for_year ($)</th>\n",
       "      <th>gdp_per_capita ($)</th>\n",
       "      <th>generation</th>\n",
       "    </tr>\n",
       "  </thead>\n",
       "  <tbody>\n",
       "    <tr>\n",
       "      <th>16564</th>\n",
       "      <td>Mexico</td>\n",
       "      <td>1985</td>\n",
       "      <td>male</td>\n",
       "      <td>75+ years</td>\n",
       "      <td>44</td>\n",
       "      <td>432000</td>\n",
       "      <td>10.19</td>\n",
       "      <td>Mexico1985</td>\n",
       "      <td>0.634</td>\n",
       "      <td>184,472,557,415</td>\n",
       "      <td>2730</td>\n",
       "      <td>G.I. Generation</td>\n",
       "    </tr>\n",
       "    <tr>\n",
       "      <th>16565</th>\n",
       "      <td>Mexico</td>\n",
       "      <td>1985</td>\n",
       "      <td>male</td>\n",
       "      <td>55-74 years</td>\n",
       "      <td>145</td>\n",
       "      <td>2330000</td>\n",
       "      <td>6.22</td>\n",
       "      <td>Mexico1985</td>\n",
       "      <td>0.634</td>\n",
       "      <td>184,472,557,415</td>\n",
       "      <td>2730</td>\n",
       "      <td>G.I. Generation</td>\n",
       "    </tr>\n",
       "    <tr>\n",
       "      <th>16566</th>\n",
       "      <td>Mexico</td>\n",
       "      <td>1985</td>\n",
       "      <td>male</td>\n",
       "      <td>25-34 years</td>\n",
       "      <td>340</td>\n",
       "      <td>5679000</td>\n",
       "      <td>5.99</td>\n",
       "      <td>Mexico1985</td>\n",
       "      <td>0.634</td>\n",
       "      <td>184,472,557,415</td>\n",
       "      <td>2730</td>\n",
       "      <td>Boomers</td>\n",
       "    </tr>\n",
       "    <tr>\n",
       "      <th>16567</th>\n",
       "      <td>Mexico</td>\n",
       "      <td>1985</td>\n",
       "      <td>male</td>\n",
       "      <td>35-54 years</td>\n",
       "      <td>327</td>\n",
       "      <td>5836000</td>\n",
       "      <td>5.60</td>\n",
       "      <td>Mexico1985</td>\n",
       "      <td>0.634</td>\n",
       "      <td>184,472,557,415</td>\n",
       "      <td>2730</td>\n",
       "      <td>Silent</td>\n",
       "    </tr>\n",
       "    <tr>\n",
       "      <th>16568</th>\n",
       "      <td>Mexico</td>\n",
       "      <td>1985</td>\n",
       "      <td>male</td>\n",
       "      <td>15-24 years</td>\n",
       "      <td>375</td>\n",
       "      <td>8420000</td>\n",
       "      <td>4.45</td>\n",
       "      <td>Mexico1985</td>\n",
       "      <td>0.634</td>\n",
       "      <td>184,472,557,415</td>\n",
       "      <td>2730</td>\n",
       "      <td>Generation X</td>\n",
       "    </tr>\n",
       "  </tbody>\n",
       "</table>\n",
       "</div>"
      ],
      "text/plain": [
       "      ï»¿country  year   sex          age  suicides_no  population  \\\n",
       "16564     Mexico  1985  male    75+ years           44      432000   \n",
       "16565     Mexico  1985  male  55-74 years          145     2330000   \n",
       "16566     Mexico  1985  male  25-34 years          340     5679000   \n",
       "16567     Mexico  1985  male  35-54 years          327     5836000   \n",
       "16568     Mexico  1985  male  15-24 years          375     8420000   \n",
       "\n",
       "       suicides/100k pop country-year  HDI for year  gdp_for_year ($)   \\\n",
       "16564              10.19   Mexico1985         0.634    184,472,557,415   \n",
       "16565               6.22   Mexico1985         0.634    184,472,557,415   \n",
       "16566               5.99   Mexico1985         0.634    184,472,557,415   \n",
       "16567               5.60   Mexico1985         0.634    184,472,557,415   \n",
       "16568               4.45   Mexico1985         0.634    184,472,557,415   \n",
       "\n",
       "       gdp_per_capita ($)       generation  \n",
       "16564                2730  G.I. Generation  \n",
       "16565                2730  G.I. Generation  \n",
       "16566                2730          Boomers  \n",
       "16567                2730           Silent  \n",
       "16568                2730     Generation X  "
      ]
     },
     "execution_count": 82,
     "metadata": {},
     "output_type": "execute_result"
    }
   ],
   "source": [
    "d4.head()\n"
   ]
  },
  {
   "cell_type": "code",
   "execution_count": null,
   "metadata": {},
   "outputs": [],
   "source": []
  }
 ],
 "metadata": {
  "kernelspec": {
   "display_name": "Python 3",
   "language": "python",
   "name": "python3"
  },
  "language_info": {
   "codemirror_mode": {
    "name": "ipython",
    "version": 3
   },
   "file_extension": ".py",
   "mimetype": "text/x-python",
   "name": "python",
   "nbconvert_exporter": "python",
   "pygments_lexer": "ipython3",
   "version": "3.7.1"
  }
 },
 "nbformat": 4,
 "nbformat_minor": 2
}
