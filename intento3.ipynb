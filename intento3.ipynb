{
 "cells": [
  {
   "cell_type": "code",
   "execution_count": 2,
   "metadata": {},
   "outputs": [],
   "source": [
    "import pandas as pd\n",
    "import numpy as np\n",
    "import matplotlib.pyplot as plt\n",
    "import seaborn as sns\n",
    "import scipy as sp\n",
    "from scipy import stats\n",
    "from scipy.stats import t\n",
    "import math"
   ]
  },
  {
   "cell_type": "code",
   "execution_count": 3,
   "metadata": {},
   "outputs": [],
   "source": [
    "#leemos los datos meteorologicos\n",
    "df= pd.read_csv(\"master.csv\",engine=\"python\")"
   ]
  },
  {
   "cell_type": "code",
   "execution_count": 5,
   "metadata": {},
   "outputs": [],
   "source": [
    "#seleccionamos mexico\n",
    "dfmexico = df[df[\"ï»¿country\"] == \"Mexico\"]\n",
    "#seleccionamos el año del 2015 de mexico\n",
    "df2015 = dfmexico[dfmexico[\"year\"] == 2015]\n",
    "#separamos los data frames en machos y hembras\n",
    "df2015m = df2015[df2015[\"sex\"] == \"female\"]\n",
    "df2015h = df2015[df2015[\"sex\"] == \"male\"]"
   ]
  },
  {
   "cell_type": "code",
   "execution_count": 6,
   "metadata": {},
   "outputs": [
    {
     "name": "stdout",
     "output_type": "stream",
     "text": [
      "el valor de zc calculado es: -47.88923838764725\n"
     ]
    }
   ],
   "source": [
    "#x1: suicidios de mujeres en mexico 2015\n",
    "#x2: suicidios de hombres en mexico 2015\n",
    "#n1: poblacion de mujeres\n",
    "#n2: población de hombres\n",
    "n1 = sum(df2015m[\"population\"])\n",
    "n2 = sum(df2015h[\"population\"])\n",
    "x1 = sum(df2015m[\"suicides_no\"])\n",
    "x2 = sum(df2015h[\"suicides_no\"])\n",
    "p1 = x1/n1\n",
    "p2 = x2/n2\n",
    "#Prubeba de proporciones\n",
    "#Estadisitoc de pruba\n",
    "p = (x1 + x2)/(n1 + n2)\n",
    "#Z calculada\n",
    "zc = (p1 - p2)/ (p*(1 - p)*(1/n1 + 1/n2))**0.5\n",
    "#La z alpha = 0.5 es de 1.96\n",
    "print('el valor de zc calculado es:', zc)\n"
   ]
  },
  {
   "cell_type": "code",
   "execution_count": 7,
   "metadata": {},
   "outputs": [
    {
     "name": "stdout",
     "output_type": "stream",
     "text": [
      "se rechaza H0\n"
     ]
    }
   ],
   "source": [
    "import scipy.stats as st\n",
    "z=st.norm.ppf(.975)\n",
    "\n",
    "if zc>z or zc<-z:\n",
    "    print(\"se rechaza H0\")\n",
    "    \n",
    "else:\n",
    "    print(\"no se rechaza H0\")"
   ]
  },
  {
   "cell_type": "code",
   "execution_count": 8,
   "metadata": {},
   "outputs": [
    {
     "data": {
      "text/plain": [
       "1.959963984540054"
      ]
     },
     "execution_count": 8,
     "metadata": {},
     "output_type": "execute_result"
    }
   ],
   "source": [
    "z"
   ]
  },
  {
   "cell_type": "code",
   "execution_count": 9,
   "metadata": {},
   "outputs": [],
   "source": [
    "#Ahora vamos a comparar las proporciones de las generaciones entre hombres y mujeres\n",
    "#primero para hombres y luego para mujeres\n",
    "df2015m=df2015m.groupby(['generation']).agg('sum')\n",
    "df2015h=df2015h.groupby(['generation']).agg('sum')"
   ]
  },
  {
   "cell_type": "code",
   "execution_count": 34,
   "metadata": {
    "scrolled": true
   },
   "outputs": [
    {
     "data": {
      "text/html": [
       "<div>\n",
       "<style scoped>\n",
       "    .dataframe tbody tr th:only-of-type {\n",
       "        vertical-align: middle;\n",
       "    }\n",
       "\n",
       "    .dataframe tbody tr th {\n",
       "        vertical-align: top;\n",
       "    }\n",
       "\n",
       "    .dataframe thead th {\n",
       "        text-align: right;\n",
       "    }\n",
       "</style>\n",
       "<table border=\"1\" class=\"dataframe\">\n",
       "  <thead>\n",
       "    <tr style=\"text-align: right;\">\n",
       "      <th></th>\n",
       "      <th>year</th>\n",
       "      <th>suicides_no</th>\n",
       "      <th>population</th>\n",
       "      <th>suicides/100k pop</th>\n",
       "      <th>HDI for year</th>\n",
       "      <th>gdp_per_capita ($)</th>\n",
       "    </tr>\n",
       "    <tr>\n",
       "      <th>generation</th>\n",
       "      <th></th>\n",
       "      <th></th>\n",
       "      <th></th>\n",
       "      <th></th>\n",
       "      <th></th>\n",
       "      <th></th>\n",
       "    </tr>\n",
       "  </thead>\n",
       "  <tbody>\n",
       "    <tr>\n",
       "      <th>Boomers</th>\n",
       "      <td>2015</td>\n",
       "      <td>88</td>\n",
       "      <td>7021916</td>\n",
       "      <td>1.25</td>\n",
       "      <td>0.0</td>\n",
       "      <td>10228</td>\n",
       "    </tr>\n",
       "    <tr>\n",
       "      <th>Generation X</th>\n",
       "      <td>2015</td>\n",
       "      <td>303</td>\n",
       "      <td>15940497</td>\n",
       "      <td>1.90</td>\n",
       "      <td>0.0</td>\n",
       "      <td>10228</td>\n",
       "    </tr>\n",
       "    <tr>\n",
       "      <th>Generation Z</th>\n",
       "      <td>2015</td>\n",
       "      <td>95</td>\n",
       "      <td>11261292</td>\n",
       "      <td>0.84</td>\n",
       "      <td>0.0</td>\n",
       "      <td>10228</td>\n",
       "    </tr>\n",
       "    <tr>\n",
       "      <th>Millenials</th>\n",
       "      <td>4030</td>\n",
       "      <td>751</td>\n",
       "      <td>21433823</td>\n",
       "      <td>6.91</td>\n",
       "      <td>0.0</td>\n",
       "      <td>20456</td>\n",
       "    </tr>\n",
       "    <tr>\n",
       "      <th>Silent</th>\n",
       "      <td>2015</td>\n",
       "      <td>11</td>\n",
       "      <td>1915217</td>\n",
       "      <td>0.57</td>\n",
       "      <td>0.0</td>\n",
       "      <td>10228</td>\n",
       "    </tr>\n",
       "  </tbody>\n",
       "</table>\n",
       "</div>"
      ],
      "text/plain": [
       "              year  suicides_no  population  suicides/100k pop  HDI for year  \\\n",
       "generation                                                                     \n",
       "Boomers       2015           88     7021916               1.25           0.0   \n",
       "Generation X  2015          303    15940497               1.90           0.0   \n",
       "Generation Z  2015           95    11261292               0.84           0.0   \n",
       "Millenials    4030          751    21433823               6.91           0.0   \n",
       "Silent        2015           11     1915217               0.57           0.0   \n",
       "\n",
       "              gdp_per_capita ($)  \n",
       "generation                        \n",
       "Boomers                    10228  \n",
       "Generation X               10228  \n",
       "Generation Z               10228  \n",
       "Millenials                 20456  \n",
       "Silent                     10228  "
      ]
     },
     "execution_count": 34,
     "metadata": {},
     "output_type": "execute_result"
    }
   ],
   "source": [
    "df2015m"
   ]
  },
  {
   "cell_type": "code",
   "execution_count": 35,
   "metadata": {},
   "outputs": [
    {
     "data": {
      "text/html": [
       "<div>\n",
       "<style scoped>\n",
       "    .dataframe tbody tr th:only-of-type {\n",
       "        vertical-align: middle;\n",
       "    }\n",
       "\n",
       "    .dataframe tbody tr th {\n",
       "        vertical-align: top;\n",
       "    }\n",
       "\n",
       "    .dataframe thead th {\n",
       "        text-align: right;\n",
       "    }\n",
       "</style>\n",
       "<table border=\"1\" class=\"dataframe\">\n",
       "  <thead>\n",
       "    <tr style=\"text-align: right;\">\n",
       "      <th></th>\n",
       "      <th>year</th>\n",
       "      <th>suicides_no</th>\n",
       "      <th>population</th>\n",
       "      <th>suicides/100k pop</th>\n",
       "      <th>HDI for year</th>\n",
       "      <th>gdp_per_capita ($)</th>\n",
       "    </tr>\n",
       "    <tr>\n",
       "      <th>generation</th>\n",
       "      <th></th>\n",
       "      <th></th>\n",
       "      <th></th>\n",
       "      <th></th>\n",
       "      <th></th>\n",
       "      <th></th>\n",
       "    </tr>\n",
       "  </thead>\n",
       "  <tbody>\n",
       "    <tr>\n",
       "      <th>Boomers</th>\n",
       "      <td>2015</td>\n",
       "      <td>584</td>\n",
       "      <td>6465941</td>\n",
       "      <td>9.03</td>\n",
       "      <td>0.0</td>\n",
       "      <td>10228</td>\n",
       "    </tr>\n",
       "    <tr>\n",
       "      <th>Generation X</th>\n",
       "      <td>2015</td>\n",
       "      <td>1560</td>\n",
       "      <td>15181008</td>\n",
       "      <td>10.28</td>\n",
       "      <td>0.0</td>\n",
       "      <td>10228</td>\n",
       "    </tr>\n",
       "    <tr>\n",
       "      <th>Generation Z</th>\n",
       "      <td>2015</td>\n",
       "      <td>137</td>\n",
       "      <td>11790898</td>\n",
       "      <td>1.16</td>\n",
       "      <td>0.0</td>\n",
       "      <td>10228</td>\n",
       "    </tr>\n",
       "    <tr>\n",
       "      <th>Millenials</th>\n",
       "      <td>4030</td>\n",
       "      <td>2542</td>\n",
       "      <td>21919638</td>\n",
       "      <td>23.21</td>\n",
       "      <td>0.0</td>\n",
       "      <td>20456</td>\n",
       "    </tr>\n",
       "    <tr>\n",
       "      <th>Silent</th>\n",
       "      <td>2015</td>\n",
       "      <td>163</td>\n",
       "      <td>1427654</td>\n",
       "      <td>11.42</td>\n",
       "      <td>0.0</td>\n",
       "      <td>10228</td>\n",
       "    </tr>\n",
       "  </tbody>\n",
       "</table>\n",
       "</div>"
      ],
      "text/plain": [
       "              year  suicides_no  population  suicides/100k pop  HDI for year  \\\n",
       "generation                                                                     \n",
       "Boomers       2015          584     6465941               9.03           0.0   \n",
       "Generation X  2015         1560    15181008              10.28           0.0   \n",
       "Generation Z  2015          137    11790898               1.16           0.0   \n",
       "Millenials    4030         2542    21919638              23.21           0.0   \n",
       "Silent        2015          163     1427654              11.42           0.0   \n",
       "\n",
       "              gdp_per_capita ($)  \n",
       "generation                        \n",
       "Boomers                    10228  \n",
       "Generation X               10228  \n",
       "Generation Z               10228  \n",
       "Millenials                 20456  \n",
       "Silent                     10228  "
      ]
     },
     "execution_count": 35,
     "metadata": {},
     "output_type": "execute_result"
    }
   ],
   "source": [
    "df2015h"
   ]
  },
  {
   "cell_type": "code",
   "execution_count": 10,
   "metadata": {},
   "outputs": [
    {
     "name": "stdout",
     "output_type": "stream",
     "text": [
      "[-20.21985914880708, -30.185743335571374, -2.4081499793538264, -30.570460719982442, -13.592708503739512]\n"
     ]
    }
   ],
   "source": [
    "valoresZc=[]\n",
    "\n",
    "for i in range(0,len(df2015m)):\n",
    "#x1: suicidios de mujeres en mexico 2015\n",
    "#x2: suicidios de hombres en mexico 2015\n",
    "#n1: poblacion de mujeres\n",
    "#n2: población de hombres\n",
    "    n1 = df2015m[\"population\"][i]\n",
    "    n2 = df2015h[\"population\"][i]\n",
    "    x1 = df2015m[\"suicides_no\"][i]\n",
    "    x2 = df2015h[\"suicides_no\"][i]\n",
    "    p1 = x1/n1\n",
    "    p2 = x2/n2\n",
    "#Prubeba de proporciones\n",
    "#Estadisitoc de pruba\n",
    "    p = (x1 + x2)/(n1 + n2)\n",
    "#Z calculada\n",
    "    zc = (p1 - p2)/(p*(1 - p)*(1/n1 + 1/n2))**.5\n",
    "#La z alpha = 0.5 es de 1.96\n",
    "#print('el valor de zc calculado es:', zc)\n",
    "    valoresZc.append(zc)\n",
    "print(valoresZc)\n"
   ]
  },
  {
   "cell_type": "code",
   "execution_count": 11,
   "metadata": {},
   "outputs": [
    {
     "data": {
      "text/html": [
       "<div>\n",
       "<style scoped>\n",
       "    .dataframe tbody tr th:only-of-type {\n",
       "        vertical-align: middle;\n",
       "    }\n",
       "\n",
       "    .dataframe tbody tr th {\n",
       "        vertical-align: top;\n",
       "    }\n",
       "\n",
       "    .dataframe thead th {\n",
       "        text-align: right;\n",
       "    }\n",
       "</style>\n",
       "<table border=\"1\" class=\"dataframe\">\n",
       "  <thead>\n",
       "    <tr style=\"text-align: right;\">\n",
       "      <th></th>\n",
       "      <th>suicides/100k pop</th>\n",
       "    </tr>\n",
       "    <tr>\n",
       "      <th>year</th>\n",
       "      <th></th>\n",
       "    </tr>\n",
       "  </thead>\n",
       "  <tbody>\n",
       "    <tr>\n",
       "      <th>1985</th>\n",
       "      <td>0.880000</td>\n",
       "    </tr>\n",
       "    <tr>\n",
       "      <th>1986</th>\n",
       "      <td>0.781667</td>\n",
       "    </tr>\n",
       "    <tr>\n",
       "      <th>1987</th>\n",
       "      <td>0.843333</td>\n",
       "    </tr>\n",
       "    <tr>\n",
       "      <th>1988</th>\n",
       "      <td>0.876667</td>\n",
       "    </tr>\n",
       "    <tr>\n",
       "      <th>1989</th>\n",
       "      <td>0.846667</td>\n",
       "    </tr>\n",
       "  </tbody>\n",
       "</table>\n",
       "</div>"
      ],
      "text/plain": [
       "      suicides/100k pop\n",
       "year                   \n",
       "1985           0.880000\n",
       "1986           0.781667\n",
       "1987           0.843333\n",
       "1988           0.876667\n",
       "1989           0.846667"
      ]
     },
     "execution_count": 11,
     "metadata": {},
     "output_type": "execute_result"
    }
   ],
   "source": [
    "dfmexicom=dfmexico.loc[dfmexico['sex']=='female']\n",
    "dfmexicom=dfmexicom.groupby(['year']).agg({'suicides/100k pop':'mean'})\n",
    "dfmexicom.head()"
   ]
  },
  {
   "cell_type": "code",
   "execution_count": 12,
   "metadata": {},
   "outputs": [
    {
     "data": {
      "text/html": [
       "<div>\n",
       "<style scoped>\n",
       "    .dataframe tbody tr th:only-of-type {\n",
       "        vertical-align: middle;\n",
       "    }\n",
       "\n",
       "    .dataframe tbody tr th {\n",
       "        vertical-align: top;\n",
       "    }\n",
       "\n",
       "    .dataframe thead th {\n",
       "        text-align: right;\n",
       "    }\n",
       "</style>\n",
       "<table border=\"1\" class=\"dataframe\">\n",
       "  <thead>\n",
       "    <tr style=\"text-align: right;\">\n",
       "      <th></th>\n",
       "      <th>suicides/100k pop</th>\n",
       "    </tr>\n",
       "    <tr>\n",
       "      <th>year</th>\n",
       "      <th></th>\n",
       "    </tr>\n",
       "  </thead>\n",
       "  <tbody>\n",
       "    <tr>\n",
       "      <th>1985</th>\n",
       "      <td>5.481667</td>\n",
       "    </tr>\n",
       "    <tr>\n",
       "      <th>1986</th>\n",
       "      <td>6.841667</td>\n",
       "    </tr>\n",
       "    <tr>\n",
       "      <th>1987</th>\n",
       "      <td>6.061667</td>\n",
       "    </tr>\n",
       "    <tr>\n",
       "      <th>1988</th>\n",
       "      <td>6.160000</td>\n",
       "    </tr>\n",
       "    <tr>\n",
       "      <th>1989</th>\n",
       "      <td>7.196667</td>\n",
       "    </tr>\n",
       "  </tbody>\n",
       "</table>\n",
       "</div>"
      ],
      "text/plain": [
       "      suicides/100k pop\n",
       "year                   \n",
       "1985           5.481667\n",
       "1986           6.841667\n",
       "1987           6.061667\n",
       "1988           6.160000\n",
       "1989           7.196667"
      ]
     },
     "execution_count": 12,
     "metadata": {},
     "output_type": "execute_result"
    }
   ],
   "source": [
    "dfmexicoh=dfmexico.loc[dfmexico['sex']=='male']\n",
    "dfmexicoh=dfmexicoh.groupby(['year']).agg({'suicides/100k pop':'mean'})\n",
    "dfmexicoh.head()"
   ]
  },
  {
   "cell_type": "code",
   "execution_count": 13,
   "metadata": {},
   "outputs": [
    {
     "data": {
      "text/html": [
       "<div>\n",
       "<style scoped>\n",
       "    .dataframe tbody tr th:only-of-type {\n",
       "        vertical-align: middle;\n",
       "    }\n",
       "\n",
       "    .dataframe tbody tr th {\n",
       "        vertical-align: top;\n",
       "    }\n",
       "\n",
       "    .dataframe thead th {\n",
       "        text-align: right;\n",
       "    }\n",
       "</style>\n",
       "<table border=\"1\" class=\"dataframe\">\n",
       "  <thead>\n",
       "    <tr style=\"text-align: right;\">\n",
       "      <th></th>\n",
       "      <th>indice_h</th>\n",
       "      <th>indice_m</th>\n",
       "    </tr>\n",
       "    <tr>\n",
       "      <th>year</th>\n",
       "      <th></th>\n",
       "      <th></th>\n",
       "    </tr>\n",
       "  </thead>\n",
       "  <tbody>\n",
       "    <tr>\n",
       "      <th>1985</th>\n",
       "      <td>5.481667</td>\n",
       "      <td>0.880000</td>\n",
       "    </tr>\n",
       "    <tr>\n",
       "      <th>1986</th>\n",
       "      <td>6.841667</td>\n",
       "      <td>0.781667</td>\n",
       "    </tr>\n",
       "    <tr>\n",
       "      <th>1987</th>\n",
       "      <td>6.061667</td>\n",
       "      <td>0.843333</td>\n",
       "    </tr>\n",
       "    <tr>\n",
       "      <th>1988</th>\n",
       "      <td>6.160000</td>\n",
       "      <td>0.876667</td>\n",
       "    </tr>\n",
       "    <tr>\n",
       "      <th>1989</th>\n",
       "      <td>7.196667</td>\n",
       "      <td>0.846667</td>\n",
       "    </tr>\n",
       "  </tbody>\n",
       "</table>\n",
       "</div>"
      ],
      "text/plain": [
       "      indice_h  indice_m\n",
       "year                    \n",
       "1985  5.481667  0.880000\n",
       "1986  6.841667  0.781667\n",
       "1987  6.061667  0.843333\n",
       "1988  6.160000  0.876667\n",
       "1989  7.196667  0.846667"
      ]
     },
     "execution_count": 13,
     "metadata": {},
     "output_type": "execute_result"
    }
   ],
   "source": [
    "dfmexicom['hombres']=dfmexicoh['suicides/100k pop']\n",
    "dfmexicom['mu']=dfmexicom['suicides/100k pop']\n",
    "dfmexicom=dfmexicom.drop('suicides/100k pop',axis=1)\n",
    "dfmexicom.head()"
   ]
  },
  {
   "cell_type": "code",
   "execution_count": 14,
   "metadata": {},
   "outputs": [
    {
     "data": {
      "text/plain": [
       "<Figure size 432x288 with 0 Axes>"
      ]
     },
     "metadata": {},
     "output_type": "display_data"
    },
    {
     "data": {
      "image/png": "[encoded data removed]",
      "text/plain": [
       "<Figure size 432x288 with 1 Axes>"
      ]
     },
     "metadata": {
      "needs_background": "light"
     },
     "output_type": "display_data"
    }
   ],
   "source": [
    "# Gráfica de Temperatura y Humedad Relativa\n",
    "dfgrafi1 = dfmexicom[['indice_h','indice_m']]\n",
    "plt.figure(); dfgrafi1.plot(); plt.legend(loc='best')\n",
    "plt.title(\"Evolución del índice de suicidios desde 1985 hasta 2015\")\n",
    "plt.ylabel(\"por cada 100k\")\n",
    "plt.grid(True)\n",
    "plt.show()"
   ]
  },
  {
   "cell_type": "code",
   "execution_count": 15,
   "metadata": {},
   "outputs": [
    {
     "data": {
      "text/html": [
       "<div>\n",
       "<style scoped>\n",
       "    .dataframe tbody tr th:only-of-type {\n",
       "        vertical-align: middle;\n",
       "    }\n",
       "\n",
       "    .dataframe tbody tr th {\n",
       "        vertical-align: top;\n",
       "    }\n",
       "\n",
       "    .dataframe thead th {\n",
       "        text-align: right;\n",
       "    }\n",
       "</style>\n",
       "<table border=\"1\" class=\"dataframe\">\n",
       "  <thead>\n",
       "    <tr style=\"text-align: right;\">\n",
       "      <th></th>\n",
       "      <th>indice_h</th>\n",
       "      <th>indice_m</th>\n",
       "      <th>indice_t</th>\n",
       "    </tr>\n",
       "    <tr>\n",
       "      <th>year</th>\n",
       "      <th></th>\n",
       "      <th></th>\n",
       "      <th></th>\n",
       "    </tr>\n",
       "  </thead>\n",
       "  <tbody>\n",
       "    <tr>\n",
       "      <th>1985</th>\n",
       "      <td>5.481667</td>\n",
       "      <td>0.880000</td>\n",
       "      <td>3.180833</td>\n",
       "    </tr>\n",
       "    <tr>\n",
       "      <th>1986</th>\n",
       "      <td>6.841667</td>\n",
       "      <td>0.781667</td>\n",
       "      <td>3.811667</td>\n",
       "    </tr>\n",
       "    <tr>\n",
       "      <th>1987</th>\n",
       "      <td>6.061667</td>\n",
       "      <td>0.843333</td>\n",
       "      <td>3.452500</td>\n",
       "    </tr>\n",
       "    <tr>\n",
       "      <th>1988</th>\n",
       "      <td>6.160000</td>\n",
       "      <td>0.876667</td>\n",
       "      <td>3.518333</td>\n",
       "    </tr>\n",
       "    <tr>\n",
       "      <th>1989</th>\n",
       "      <td>7.196667</td>\n",
       "      <td>0.846667</td>\n",
       "      <td>4.021667</td>\n",
       "    </tr>\n",
       "  </tbody>\n",
       "</table>\n",
       "</div>"
      ],
      "text/plain": [
       "      indice_h  indice_m  indice_t\n",
       "year                              \n",
       "1985  5.481667  0.880000  3.180833\n",
       "1986  6.841667  0.781667  3.811667\n",
       "1987  6.061667  0.843333  3.452500\n",
       "1988  6.160000  0.876667  3.518333\n",
       "1989  7.196667  0.846667  4.021667"
      ]
     },
     "execution_count": 15,
     "metadata": {},
     "output_type": "execute_result"
    }
   ],
   "source": [
    "dfmexicom['indice_t']=(dfmexicom['indice_h']+dfmexicom['indice_m'])/2\n",
    "dfmexicom.head()"
   ]
  },
  {
   "cell_type": "code",
   "execution_count": 16,
   "metadata": {},
   "outputs": [
    {
     "data": {
      "text/plain": [
       "<Figure size 432x288 with 0 Axes>"
      ]
     },
     "metadata": {},
     "output_type": "display_data"
    },
    {
     "data": {
      "image/png": "[encoded data removed]",
      "text/plain": [
       "<Figure size 432x288 with 1 Axes>"
      ]
     },
     "metadata": {
      "needs_background": "light"
     },
     "output_type": "display_data"
    }
   ],
   "source": [
    "dfgrafi1 = dfmexicom[['indice_h','indice_m','indice_t']]\n",
    "plt.figure(); dfgrafi1.plot(); plt.legend(loc='best')\n",
    "plt.title(\"Evolución del índice de suicidios desde 1985 hasta 2015\")\n",
    "plt.ylabel(\"por cada 100k\")\n",
    "plt.grid(True)\n",
    "plt.savefig(\"mexico_hxm\")\n",
    "plt.show()"
   ]
  },
  {
   "cell_type": "code",
   "execution_count": 17,
   "metadata": {},
   "outputs": [
    {
     "data": {
      "text/html": [
       "<div>\n",
       "<style scoped>\n",
       "    .dataframe tbody tr th:only-of-type {\n",
       "        vertical-align: middle;\n",
       "    }\n",
       "\n",
       "    .dataframe tbody tr th {\n",
       "        vertical-align: top;\n",
       "    }\n",
       "\n",
       "    .dataframe thead th {\n",
       "        text-align: right;\n",
       "    }\n",
       "</style>\n",
       "<table border=\"1\" class=\"dataframe\">\n",
       "  <thead>\n",
       "    <tr style=\"text-align: right;\">\n",
       "      <th></th>\n",
       "      <th>indice_tb</th>\n",
       "    </tr>\n",
       "    <tr>\n",
       "      <th>year</th>\n",
       "      <th></th>\n",
       "    </tr>\n",
       "  </thead>\n",
       "  <tbody>\n",
       "    <tr>\n",
       "      <th>1985</th>\n",
       "      <td>4.931667</td>\n",
       "    </tr>\n",
       "    <tr>\n",
       "      <th>1986</th>\n",
       "      <td>4.763333</td>\n",
       "    </tr>\n",
       "    <tr>\n",
       "      <th>1987</th>\n",
       "      <td>5.843333</td>\n",
       "    </tr>\n",
       "    <tr>\n",
       "      <th>1988</th>\n",
       "      <td>5.446667</td>\n",
       "    </tr>\n",
       "    <tr>\n",
       "      <th>1989</th>\n",
       "      <td>5.335000</td>\n",
       "    </tr>\n",
       "  </tbody>\n",
       "</table>\n",
       "</div>"
      ],
      "text/plain": [
       "      indice_tb\n",
       "year           \n",
       "1985   4.931667\n",
       "1986   4.763333\n",
       "1987   5.843333\n",
       "1988   5.446667\n",
       "1989   5.335000"
      ]
     },
     "execution_count": 17,
     "metadata": {},
     "output_type": "execute_result"
    }
   ],
   "source": [
    "dfbrazil=df[df['ï»¿country']=='Brazil']\n",
    "dfbrazil1=dfbrazil.groupby(['year']).agg({'suicides/100k pop':'mean'})\n",
    "dfbrazil1['indice_tb']=dfbrazil1['suicides/100k pop']\n",
    "dfbrazil1=dfbrazil1.drop('suicides/100k pop',axis=1)\n",
    "dfbrazil1.head()"
   ]
  },
  {
   "cell_type": "code",
   "execution_count": 18,
   "metadata": {},
   "outputs": [
    {
     "data": {
      "text/html": [
       "<div>\n",
       "<style scoped>\n",
       "    .dataframe tbody tr th:only-of-type {\n",
       "        vertical-align: middle;\n",
       "    }\n",
       "\n",
       "    .dataframe tbody tr th {\n",
       "        vertical-align: top;\n",
       "    }\n",
       "\n",
       "    .dataframe thead th {\n",
       "        text-align: right;\n",
       "    }\n",
       "</style>\n",
       "<table border=\"1\" class=\"dataframe\">\n",
       "  <thead>\n",
       "    <tr style=\"text-align: right;\">\n",
       "      <th></th>\n",
       "      <th>indice_teua</th>\n",
       "    </tr>\n",
       "    <tr>\n",
       "      <th>year</th>\n",
       "      <th></th>\n",
       "    </tr>\n",
       "  </thead>\n",
       "  <tbody>\n",
       "    <tr>\n",
       "      <th>1985</th>\n",
       "      <td>15.393333</td>\n",
       "    </tr>\n",
       "    <tr>\n",
       "      <th>1986</th>\n",
       "      <td>15.970833</td>\n",
       "    </tr>\n",
       "    <tr>\n",
       "      <th>1987</th>\n",
       "      <td>15.971667</td>\n",
       "    </tr>\n",
       "    <tr>\n",
       "      <th>1988</th>\n",
       "      <td>15.642500</td>\n",
       "    </tr>\n",
       "    <tr>\n",
       "      <th>1989</th>\n",
       "      <td>15.203333</td>\n",
       "    </tr>\n",
       "  </tbody>\n",
       "</table>\n",
       "</div>"
      ],
      "text/plain": [
       "      indice_teua\n",
       "year             \n",
       "1985    15.393333\n",
       "1986    15.970833\n",
       "1987    15.971667\n",
       "1988    15.642500\n",
       "1989    15.203333"
      ]
     },
     "execution_count": 18,
     "metadata": {},
     "output_type": "execute_result"
    }
   ],
   "source": [
    "dfeua=df[df['ï»¿country']=='United States']\n",
    "dfeua1=dfeua.groupby(['year']).agg({'suicides/100k pop':'mean'})\n",
    "dfeua1['indice_teua']=dfeua1['suicides/100k pop']\n",
    "dfeua1=dfeua1.drop('suicides/100k pop',axis=1)\n",
    "dfeua1.head()"
   ]
  },
  {
   "cell_type": "code",
   "execution_count": 19,
   "metadata": {},
   "outputs": [
    {
     "data": {
      "text/html": [
       "<div>\n",
       "<style scoped>\n",
       "    .dataframe tbody tr th:only-of-type {\n",
       "        vertical-align: middle;\n",
       "    }\n",
       "\n",
       "    .dataframe tbody tr th {\n",
       "        vertical-align: top;\n",
       "    }\n",
       "\n",
       "    .dataframe thead th {\n",
       "        text-align: right;\n",
       "    }\n",
       "</style>\n",
       "<table border=\"1\" class=\"dataframe\">\n",
       "  <thead>\n",
       "    <tr style=\"text-align: right;\">\n",
       "      <th></th>\n",
       "      <th>indice_h</th>\n",
       "      <th>indice_m</th>\n",
       "      <th>indice_t</th>\n",
       "      <th>indice_tb</th>\n",
       "      <th>indice_teua</th>\n",
       "    </tr>\n",
       "    <tr>\n",
       "      <th>year</th>\n",
       "      <th></th>\n",
       "      <th></th>\n",
       "      <th></th>\n",
       "      <th></th>\n",
       "      <th></th>\n",
       "    </tr>\n",
       "  </thead>\n",
       "  <tbody>\n",
       "    <tr>\n",
       "      <th>1985</th>\n",
       "      <td>5.481667</td>\n",
       "      <td>0.880000</td>\n",
       "      <td>3.180833</td>\n",
       "      <td>4.931667</td>\n",
       "      <td>15.393333</td>\n",
       "    </tr>\n",
       "    <tr>\n",
       "      <th>1986</th>\n",
       "      <td>6.841667</td>\n",
       "      <td>0.781667</td>\n",
       "      <td>3.811667</td>\n",
       "      <td>4.763333</td>\n",
       "      <td>15.970833</td>\n",
       "    </tr>\n",
       "    <tr>\n",
       "      <th>1987</th>\n",
       "      <td>6.061667</td>\n",
       "      <td>0.843333</td>\n",
       "      <td>3.452500</td>\n",
       "      <td>5.843333</td>\n",
       "      <td>15.971667</td>\n",
       "    </tr>\n",
       "    <tr>\n",
       "      <th>1988</th>\n",
       "      <td>6.160000</td>\n",
       "      <td>0.876667</td>\n",
       "      <td>3.518333</td>\n",
       "      <td>5.446667</td>\n",
       "      <td>15.642500</td>\n",
       "    </tr>\n",
       "    <tr>\n",
       "      <th>1989</th>\n",
       "      <td>7.196667</td>\n",
       "      <td>0.846667</td>\n",
       "      <td>4.021667</td>\n",
       "      <td>5.335000</td>\n",
       "      <td>15.203333</td>\n",
       "    </tr>\n",
       "  </tbody>\n",
       "</table>\n",
       "</div>"
      ],
      "text/plain": [
       "      indice_h  indice_m  indice_t  indice_tb  indice_teua\n",
       "year                                                      \n",
       "1985  5.481667  0.880000  3.180833   4.931667    15.393333\n",
       "1986  6.841667  0.781667  3.811667   4.763333    15.970833\n",
       "1987  6.061667  0.843333  3.452500   5.843333    15.971667\n",
       "1988  6.160000  0.876667  3.518333   5.446667    15.642500\n",
       "1989  7.196667  0.846667  4.021667   5.335000    15.203333"
      ]
     },
     "execution_count": 19,
     "metadata": {},
     "output_type": "execute_result"
    }
   ],
   "source": [
    "dfmexicom['indice_tb']=dfbrazil1['indice_tb']\n",
    "dfmexicom['indice_teua']=dfeua1['indice_teua']\n",
    "dfmexicom.head()"
   ]
  },
  {
   "cell_type": "code",
   "execution_count": 20,
   "metadata": {},
   "outputs": [
    {
     "data": {
      "text/plain": [
       "<Figure size 432x288 with 0 Axes>"
      ]
     },
     "metadata": {},
     "output_type": "display_data"
    },
    {
     "data": {
      "image/png": "[encoded data removed]",
      "text/plain": [
       "<Figure size 432x288 with 1 Axes>"
      ]
     },
     "metadata": {
      "needs_background": "light"
     },
     "output_type": "display_data"
    }
   ],
   "source": [
    "dfgrafi1 = dfmexicom[['indice_t','indice_teua','indice_tb']]\n",
    "plt.figure(); dfgrafi1.plot(); plt.legend(loc='best')\n",
    "plt.title(\"Comparación de los índicies de suicidio entre EUA, brazil y Mexico\")\n",
    "plt.ylabel(\"por cada 100k\")\n",
    "plt.grid(True)\n",
    "plt.savefig(\"indice_paises\",plt=2000)\n",
    "plt.show()"
   ]
  },
  {
   "cell_type": "code",
   "execution_count": 21,
   "metadata": {
    "scrolled": true
   },
   "outputs": [
    {
     "data": {
      "text/html": [
       "<div>\n",
       "<style scoped>\n",
       "    .dataframe tbody tr th:only-of-type {\n",
       "        vertical-align: middle;\n",
       "    }\n",
       "\n",
       "    .dataframe tbody tr th {\n",
       "        vertical-align: top;\n",
       "    }\n",
       "\n",
       "    .dataframe thead th {\n",
       "        text-align: right;\n",
       "    }\n",
       "</style>\n",
       "<table border=\"1\" class=\"dataframe\">\n",
       "  <thead>\n",
       "    <tr style=\"text-align: right;\">\n",
       "      <th></th>\n",
       "      <th>Boomers_mex</th>\n",
       "    </tr>\n",
       "    <tr>\n",
       "      <th>year</th>\n",
       "      <th></th>\n",
       "    </tr>\n",
       "  </thead>\n",
       "  <tbody>\n",
       "    <tr>\n",
       "      <th>1985</th>\n",
       "      <td>3.535</td>\n",
       "    </tr>\n",
       "    <tr>\n",
       "      <th>1986</th>\n",
       "      <td>3.945</td>\n",
       "    </tr>\n",
       "    <tr>\n",
       "      <th>1987</th>\n",
       "      <td>3.935</td>\n",
       "    </tr>\n",
       "    <tr>\n",
       "      <th>1988</th>\n",
       "      <td>3.565</td>\n",
       "    </tr>\n",
       "    <tr>\n",
       "      <th>1989</th>\n",
       "      <td>3.535</td>\n",
       "    </tr>\n",
       "  </tbody>\n",
       "</table>\n",
       "</div>"
      ],
      "text/plain": [
       "      Boomers_mex\n",
       "year             \n",
       "1985        3.535\n",
       "1986        3.945\n",
       "1987        3.935\n",
       "1988        3.565\n",
       "1989        3.535"
      ]
     },
     "execution_count": 21,
     "metadata": {},
     "output_type": "execute_result"
    }
   ],
   "source": [
    "dfmexicoGB=dfmexico[dfmexico['generation']=='Boomers']\n",
    "dfmexicoGB=dfmexicoGB.groupby(['year']).agg({'suicides/100k pop':'mean'})\n",
    "dfmexicoGB['Boomers_mex'] =dfmexicoGB['suicides/100k pop']\n",
    "dfmexicoGB=dfmexicoGB.drop('suicides/100k pop',axis=1)\n",
    "dfmexicoGB.head()"
   ]
  },
  {
   "cell_type": "code",
   "execution_count": 22,
   "metadata": {},
   "outputs": [
    {
     "data": {
      "text/html": [
       "<div>\n",
       "<style scoped>\n",
       "    .dataframe tbody tr th:only-of-type {\n",
       "        vertical-align: middle;\n",
       "    }\n",
       "\n",
       "    .dataframe tbody tr th {\n",
       "        vertical-align: top;\n",
       "    }\n",
       "\n",
       "    .dataframe thead th {\n",
       "        text-align: right;\n",
       "    }\n",
       "</style>\n",
       "<table border=\"1\" class=\"dataframe\">\n",
       "  <thead>\n",
       "    <tr style=\"text-align: right;\">\n",
       "      <th></th>\n",
       "      <th>Boomers_bra</th>\n",
       "    </tr>\n",
       "    <tr>\n",
       "      <th>year</th>\n",
       "      <th></th>\n",
       "    </tr>\n",
       "  </thead>\n",
       "  <tbody>\n",
       "    <tr>\n",
       "      <th>1985</th>\n",
       "      <td>4.920</td>\n",
       "    </tr>\n",
       "    <tr>\n",
       "      <th>1986</th>\n",
       "      <td>5.020</td>\n",
       "    </tr>\n",
       "    <tr>\n",
       "      <th>1987</th>\n",
       "      <td>5.005</td>\n",
       "    </tr>\n",
       "    <tr>\n",
       "      <th>1988</th>\n",
       "      <td>4.795</td>\n",
       "    </tr>\n",
       "    <tr>\n",
       "      <th>1989</th>\n",
       "      <td>4.765</td>\n",
       "    </tr>\n",
       "  </tbody>\n",
       "</table>\n",
       "</div>"
      ],
      "text/plain": [
       "      Boomers_bra\n",
       "year             \n",
       "1985        4.920\n",
       "1986        5.020\n",
       "1987        5.005\n",
       "1988        4.795\n",
       "1989        4.765"
      ]
     },
     "execution_count": 22,
     "metadata": {},
     "output_type": "execute_result"
    }
   ],
   "source": [
    "dfbrazilGB=dfbrazil[dfbrazil['generation']=='Boomers']\n",
    "dfbrazilGB=dfbrazilGB.groupby(['year']).agg({'suicides/100k pop':'mean'})\n",
    "dfbrazilGB['Boomers_bra'] =dfbrazilGB['suicides/100k pop']\n",
    "dfbrazilGB=dfbrazilGB.drop('suicides/100k pop',axis=1)\n",
    "dfbrazilGB.head()"
   ]
  },
  {
   "cell_type": "code",
   "execution_count": 23,
   "metadata": {},
   "outputs": [
    {
     "data": {
      "text/html": [
       "<div>\n",
       "<style scoped>\n",
       "    .dataframe tbody tr th:only-of-type {\n",
       "        vertical-align: middle;\n",
       "    }\n",
       "\n",
       "    .dataframe tbody tr th {\n",
       "        vertical-align: top;\n",
       "    }\n",
       "\n",
       "    .dataframe thead th {\n",
       "        text-align: right;\n",
       "    }\n",
       "</style>\n",
       "<table border=\"1\" class=\"dataframe\">\n",
       "  <thead>\n",
       "    <tr style=\"text-align: right;\">\n",
       "      <th></th>\n",
       "      <th>Boomers_eua</th>\n",
       "    </tr>\n",
       "    <tr>\n",
       "      <th>year</th>\n",
       "      <th></th>\n",
       "    </tr>\n",
       "  </thead>\n",
       "  <tbody>\n",
       "    <tr>\n",
       "      <th>1985</th>\n",
       "      <td>15.180</td>\n",
       "    </tr>\n",
       "    <tr>\n",
       "      <th>1986</th>\n",
       "      <td>15.690</td>\n",
       "    </tr>\n",
       "    <tr>\n",
       "      <th>1987</th>\n",
       "      <td>15.360</td>\n",
       "    </tr>\n",
       "    <tr>\n",
       "      <th>1988</th>\n",
       "      <td>15.355</td>\n",
       "    </tr>\n",
       "    <tr>\n",
       "      <th>1989</th>\n",
       "      <td>14.965</td>\n",
       "    </tr>\n",
       "  </tbody>\n",
       "</table>\n",
       "</div>"
      ],
      "text/plain": [
       "      Boomers_eua\n",
       "year             \n",
       "1985       15.180\n",
       "1986       15.690\n",
       "1987       15.360\n",
       "1988       15.355\n",
       "1989       14.965"
      ]
     },
     "execution_count": 23,
     "metadata": {},
     "output_type": "execute_result"
    }
   ],
   "source": [
    "dfeuaGB=dfeua[dfeua['generation']=='Boomers']\n",
    "dfeuaGB=dfeuaGB.groupby(['year']).agg({'suicides/100k pop':'mean'})\n",
    "dfeuaGB['Boomers_eua'] =dfeuaGB['suicides/100k pop']\n",
    "dfeuaGB=dfeuaGB.drop('suicides/100k pop',axis=1)\n",
    "dfeuaGB.head()"
   ]
  },
  {
   "cell_type": "code",
   "execution_count": 24,
   "metadata": {},
   "outputs": [
    {
     "data": {
      "text/html": [
       "<div>\n",
       "<style scoped>\n",
       "    .dataframe tbody tr th:only-of-type {\n",
       "        vertical-align: middle;\n",
       "    }\n",
       "\n",
       "    .dataframe tbody tr th {\n",
       "        vertical-align: top;\n",
       "    }\n",
       "\n",
       "    .dataframe thead th {\n",
       "        text-align: right;\n",
       "    }\n",
       "</style>\n",
       "<table border=\"1\" class=\"dataframe\">\n",
       "  <thead>\n",
       "    <tr style=\"text-align: right;\">\n",
       "      <th></th>\n",
       "      <th>Boomers_mex</th>\n",
       "      <th>Boomers_bra</th>\n",
       "      <th>Boomers_eua</th>\n",
       "    </tr>\n",
       "    <tr>\n",
       "      <th>year</th>\n",
       "      <th></th>\n",
       "      <th></th>\n",
       "      <th></th>\n",
       "    </tr>\n",
       "  </thead>\n",
       "  <tbody>\n",
       "    <tr>\n",
       "      <th>1985</th>\n",
       "      <td>3.535</td>\n",
       "      <td>4.920</td>\n",
       "      <td>15.180</td>\n",
       "    </tr>\n",
       "    <tr>\n",
       "      <th>1986</th>\n",
       "      <td>3.945</td>\n",
       "      <td>5.020</td>\n",
       "      <td>15.690</td>\n",
       "    </tr>\n",
       "    <tr>\n",
       "      <th>1987</th>\n",
       "      <td>3.935</td>\n",
       "      <td>5.005</td>\n",
       "      <td>15.360</td>\n",
       "    </tr>\n",
       "    <tr>\n",
       "      <th>1988</th>\n",
       "      <td>3.565</td>\n",
       "      <td>4.795</td>\n",
       "      <td>15.355</td>\n",
       "    </tr>\n",
       "    <tr>\n",
       "      <th>1989</th>\n",
       "      <td>3.535</td>\n",
       "      <td>4.765</td>\n",
       "      <td>14.965</td>\n",
       "    </tr>\n",
       "  </tbody>\n",
       "</table>\n",
       "</div>"
      ],
      "text/plain": [
       "      Boomers_mex  Boomers_bra  Boomers_eua\n",
       "year                                       \n",
       "1985        3.535        4.920       15.180\n",
       "1986        3.945        5.020       15.690\n",
       "1987        3.935        5.005       15.360\n",
       "1988        3.565        4.795       15.355\n",
       "1989        3.535        4.765       14.965"
      ]
     },
     "execution_count": 24,
     "metadata": {},
     "output_type": "execute_result"
    }
   ],
   "source": [
    "dfmexicoGB['Boomers_bra']=dfbrazilGB['Boomers_bra']\n",
    "dfmexicoGB['Boomers_eua']=dfeuaGB['Boomers_eua']\n",
    "dfmexicoGB.head()"
   ]
  },
  {
   "cell_type": "code",
   "execution_count": 25,
   "metadata": {},
   "outputs": [
    {
     "data": {
      "text/plain": [
       "<Figure size 432x288 with 0 Axes>"
      ]
     },
     "metadata": {},
     "output_type": "display_data"
    },
    {
     "data": {
      "image/png": "[encoded data removed]",
      "text/plain": [
       "<Figure size 432x288 with 1 Axes>"
      ]
     },
     "metadata": {
      "needs_background": "light"
     },
     "output_type": "display_data"
    }
   ],
   "source": [
    "dfgrafi1 = dfmexicoGB[['Boomers_mex','Boomers_bra','Boomers_eua']]\n",
    "plt.figure(); dfgrafi1.plot(); plt.legend(loc='best')\n",
    "plt.title(\"Comparación de suicidios en la generacion Boomers, entre EUA, brazil y Mexico\")\n",
    "plt.ylabel(\"por cada 100k\")\n",
    "plt.grid(True)\n",
    "plt.savefig(\"boomers_paises\",plt=2000)\n",
    "plt.show()"
   ]
  },
  {
   "cell_type": "code",
   "execution_count": 26,
   "metadata": {},
   "outputs": [],
   "source": [
    "dfmexico1=dfmexico.groupby(['age']).agg({'suicides_no':'sum'})"
   ]
  },
  {
   "cell_type": "code",
   "execution_count": 27,
   "metadata": {},
   "outputs": [
    {
     "data": {
      "text/html": [
       "<div>\n",
       "<style scoped>\n",
       "    .dataframe tbody tr th:only-of-type {\n",
       "        vertical-align: middle;\n",
       "    }\n",
       "\n",
       "    .dataframe tbody tr th {\n",
       "        vertical-align: top;\n",
       "    }\n",
       "\n",
       "    .dataframe thead th {\n",
       "        text-align: right;\n",
       "    }\n",
       "</style>\n",
       "<table border=\"1\" class=\"dataframe\">\n",
       "  <thead>\n",
       "    <tr style=\"text-align: right;\">\n",
       "      <th></th>\n",
       "      <th>num_mex</th>\n",
       "    </tr>\n",
       "    <tr>\n",
       "      <th>age</th>\n",
       "      <th></th>\n",
       "    </tr>\n",
       "  </thead>\n",
       "  <tbody>\n",
       "    <tr>\n",
       "      <th>15-24 years</th>\n",
       "      <td>33664</td>\n",
       "    </tr>\n",
       "    <tr>\n",
       "      <th>25-34 years</th>\n",
       "      <td>27226</td>\n",
       "    </tr>\n",
       "    <tr>\n",
       "      <th>35-54 years</th>\n",
       "      <td>29997</td>\n",
       "    </tr>\n",
       "    <tr>\n",
       "      <th>5-14 years</th>\n",
       "      <td>3930</td>\n",
       "    </tr>\n",
       "    <tr>\n",
       "      <th>55-74 years</th>\n",
       "      <td>12318</td>\n",
       "    </tr>\n",
       "    <tr>\n",
       "      <th>75+ years</th>\n",
       "      <td>4004</td>\n",
       "    </tr>\n",
       "  </tbody>\n",
       "</table>\n",
       "</div>"
      ],
      "text/plain": [
       "             num_mex\n",
       "age                 \n",
       "15-24 years    33664\n",
       "25-34 years    27226\n",
       "35-54 years    29997\n",
       "5-14 years      3930\n",
       "55-74 years    12318\n",
       "75+ years       4004"
      ]
     },
     "execution_count": 27,
     "metadata": {},
     "output_type": "execute_result"
    }
   ],
   "source": [
    "dfmexico1['num_mex']=dfmexico1['suicides_no']\n",
    "dfmexico1=dfmexico1.drop('suicides_no',axis = 1)\n",
    "dfmexico1"
   ]
  },
  {
   "cell_type": "code",
   "execution_count": 28,
   "metadata": {},
   "outputs": [],
   "source": [
    "dfeua1=dfeua.groupby(['age']).agg({'suicides_no':'sum'})"
   ]
  },
  {
   "cell_type": "code",
   "execution_count": 29,
   "metadata": {},
   "outputs": [
    {
     "data": {
      "text/html": [
       "<div>\n",
       "<style scoped>\n",
       "    .dataframe tbody tr th:only-of-type {\n",
       "        vertical-align: middle;\n",
       "    }\n",
       "\n",
       "    .dataframe tbody tr th {\n",
       "        vertical-align: top;\n",
       "    }\n",
       "\n",
       "    .dataframe thead th {\n",
       "        text-align: right;\n",
       "    }\n",
       "</style>\n",
       "<table border=\"1\" class=\"dataframe\">\n",
       "  <thead>\n",
       "    <tr style=\"text-align: right;\">\n",
       "      <th></th>\n",
       "      <th>num_eua</th>\n",
       "    </tr>\n",
       "    <tr>\n",
       "      <th>age</th>\n",
       "      <th></th>\n",
       "    </tr>\n",
       "  </thead>\n",
       "  <tbody>\n",
       "    <tr>\n",
       "      <th>15-24 years</th>\n",
       "      <td>141679</td>\n",
       "    </tr>\n",
       "    <tr>\n",
       "      <th>25-34 years</th>\n",
       "      <td>182047</td>\n",
       "    </tr>\n",
       "    <tr>\n",
       "      <th>35-54 years</th>\n",
       "      <td>380917</td>\n",
       "    </tr>\n",
       "    <tr>\n",
       "      <th>5-14 years</th>\n",
       "      <td>8923</td>\n",
       "    </tr>\n",
       "    <tr>\n",
       "      <th>55-74 years</th>\n",
       "      <td>224770</td>\n",
       "    </tr>\n",
       "    <tr>\n",
       "      <th>75+ years</th>\n",
       "      <td>95677</td>\n",
       "    </tr>\n",
       "  </tbody>\n",
       "</table>\n",
       "</div>"
      ],
      "text/plain": [
       "             num_eua\n",
       "age                 \n",
       "15-24 years   141679\n",
       "25-34 years   182047\n",
       "35-54 years   380917\n",
       "5-14 years      8923\n",
       "55-74 years   224770\n",
       "75+ years      95677"
      ]
     },
     "execution_count": 29,
     "metadata": {},
     "output_type": "execute_result"
    }
   ],
   "source": [
    "dfeua1['num_eua']=dfeua1['suicides_no']\n",
    "dfeua1=dfeua1.drop('suicides_no',axis = 1)\n",
    "dfeua1"
   ]
  },
  {
   "cell_type": "code",
   "execution_count": 30,
   "metadata": {},
   "outputs": [
    {
     "data": {
      "text/html": [
       "<div>\n",
       "<style scoped>\n",
       "    .dataframe tbody tr th:only-of-type {\n",
       "        vertical-align: middle;\n",
       "    }\n",
       "\n",
       "    .dataframe tbody tr th {\n",
       "        vertical-align: top;\n",
       "    }\n",
       "\n",
       "    .dataframe thead th {\n",
       "        text-align: right;\n",
       "    }\n",
       "</style>\n",
       "<table border=\"1\" class=\"dataframe\">\n",
       "  <thead>\n",
       "    <tr style=\"text-align: right;\">\n",
       "      <th></th>\n",
       "      <th>num_bra</th>\n",
       "    </tr>\n",
       "    <tr>\n",
       "      <th>age</th>\n",
       "      <th></th>\n",
       "    </tr>\n",
       "  </thead>\n",
       "  <tbody>\n",
       "    <tr>\n",
       "      <th>15-24 years</th>\n",
       "      <td>44597</td>\n",
       "    </tr>\n",
       "    <tr>\n",
       "      <th>25-34 years</th>\n",
       "      <td>52534</td>\n",
       "    </tr>\n",
       "    <tr>\n",
       "      <th>35-54 years</th>\n",
       "      <td>79860</td>\n",
       "    </tr>\n",
       "    <tr>\n",
       "      <th>5-14 years</th>\n",
       "      <td>3029</td>\n",
       "    </tr>\n",
       "    <tr>\n",
       "      <th>55-74 years</th>\n",
       "      <td>37556</td>\n",
       "    </tr>\n",
       "    <tr>\n",
       "      <th>75+ years</th>\n",
       "      <td>9037</td>\n",
       "    </tr>\n",
       "  </tbody>\n",
       "</table>\n",
       "</div>"
      ],
      "text/plain": [
       "             num_bra\n",
       "age                 \n",
       "15-24 years    44597\n",
       "25-34 years    52534\n",
       "35-54 years    79860\n",
       "5-14 years      3029\n",
       "55-74 years    37556\n",
       "75+ years       9037"
      ]
     },
     "execution_count": 30,
     "metadata": {},
     "output_type": "execute_result"
    }
   ],
   "source": [
    "dfbrazil1=dfbrazil.groupby(['age']).agg({'suicides_no':'sum'})\n",
    "dfbrazil1['num_bra']=dfbrazil1['suicides_no']\n",
    "dfbrazil1=dfbrazil1.drop('suicides_no',axis = 1)\n",
    "dfbrazil1"
   ]
  },
  {
   "cell_type": "code",
   "execution_count": 32,
   "metadata": {},
   "outputs": [
    {
     "data": {
      "image/png": "[encoded data removed]",
      "text/plain": [
       "<Figure size 432x288 with 1 Axes>"
      ]
     },
     "metadata": {
      "needs_background": "light"
     },
     "output_type": "display_data"
    }
   ],
   "source": [
    "dfmexicohom = dfmexico[dfmexico[\"sex\"]==\"male\"]\n",
    "ax = sns.boxplot(x=\"year\", y=\"suicides/100k pop\", data=dfmexicohom)\n",
    "plt.xticks(rotation=90)\n",
    "plt.title(\"suicidios por cada 100k\")\n",
    "plt.ylabel(\"suicidio por cada 100k hombres\")\n",
    "plt.xlabel(\"Año\")\n",
    "plt.savefig(\"boxplot_hom\",plt=2000)\n",
    "plt.show()"
   ]
  },
  {
   "cell_type": "code",
   "execution_count": 33,
   "metadata": {},
   "outputs": [
    {
     "data": {
      "image/png": "[encoded data removed]",
      "text/plain": [
       "<Figure size 432x288 with 1 Axes>"
      ]
     },
     "metadata": {
      "needs_background": "light"
     },
     "output_type": "display_data"
    }
   ],
   "source": [
    "dfmexicomuj = dfmexico[dfmexico[\"sex\"]==\"female\"]\n",
    "ax = sns.boxplot(x=\"year\", y=\"suicides/100k pop\", data=dfmexicomuj)\n",
    "plt.xticks(rotation=90)\n",
    "plt.title(\"suicidios por cada 100k\")\n",
    "plt.ylabel(\"suicidio por cada 100k mujeres\")\n",
    "plt.xlabel(\"Año\")\n",
    "plt.savefig(\"boxplot_muj\",plt=2000)\n",
    "plt.show()"
   ]
  },
  {
   "cell_type": "code",
   "execution_count": null,
   "metadata": {},
   "outputs": [],
   "source": []
  }
 ],
 "metadata": {
  "kernelspec": {
   "display_name": "Python 3",
   "language": "python",
   "name": "python3"
  },
  "language_info": {
   "codemirror_mode": {
    "name": "ipython",
    "version": 3
   },
   "file_extension": ".py",
   "mimetype": "text/x-python",
   "name": "python",
   "nbconvert_exporter": "python",
   "pygments_lexer": "ipython3",
   "version": "3.7.1"
  }
 },
 "nbformat": 4,
 "nbformat_minor": 2
}
